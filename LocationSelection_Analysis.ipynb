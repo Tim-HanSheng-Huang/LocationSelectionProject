{
 "cells": [
  {
   "cell_type": "markdown",
   "metadata": {},
   "source": [
    "## Location Selection Analysis for Handshake Beverage Stores - A Case Study of Taipei\n",
    "Han-Sheng Huang  \n",
    "2022"
   ]
  },
  {
   "cell_type": "markdown",
   "metadata": {},
   "source": [
    "### Background\n",
    "Location is an really important factor to influence the performance of handshake beverage stores. Therefore, this report would like to provide a tool to help beverage companies do the location selection according to some relative information, such as rental price, reginal income, number of MRT stations within 500 meters et al."
   ]
  },
  {
   "cell_type": "markdown",
   "metadata": {},
   "source": [
    "### Data\n",
    "1. The addresses of store were collected from the official website of the beverage companies, including [milkshop](https://www.milkshoptea.com/en/), [50lan](http://50lan.com/), [chinshin](https://www.chingshin.tw/), [MACU](https://www.maculife.com.tw/), [chunshuitang](https://chunshuitang.com.tw/)\n",
    "2. Population data were colleced from [Department of Civil Affairs, Taipei City Government](https://english.ca.gov.taipei/)\n",
    "3. Rental price data were collected from [Dept of Land Administration, M. O. I., Taiwan](https://www.land.moi.gov.tw/enhtml/index)\n",
    "4. MRT stations address were colected from [Taipei Metro](https://english.metro.taipei/)\n",
    "5. Regional income data were collected from [open data platform, Taiwan](https://data.gov.tw/dataset/103066)\n",
    "6. Tourist attractions address were collected from [Tourism Bureau, M.O.T.C., Taiwan](https://www.taiwan.net.tw/m1.aspx?sNo=0001090)\n",
    "7. Othere sources: [School1](https://www.doe.gov.taipei/Default.aspx), [School2](https://ulist.moe.gov.tw/Query/Area/N1), [Mall](https://zh.wikipedia.org/wiki/%E8%87%BA%E5%8C%97%E5%B8%82%E8%B3%BC%E7%89%A9%E4%B8%AD%E5%BF%83%E5%88%97%E8%A1%A8), [Income and expenditure survey](https://dbas.gov.taipei/News.aspx?n=783F3F5F4E6C457E&sms=CF3C6E6E7767448F), [Tourist attractions](https://asiayo.com/event/taipei_fit.html)"
   ]
  },
  {
   "cell_type": "markdown",
   "metadata": {},
   "source": [
    "### Analysis\n",
    "Because we want to get an interpretable outcome, we select tree-based models, such as decision tree, random forest, and gradient boosting decistion tree, for the problem.  \n",
    "The target (y variable) of the problem is whether an location is suitable for beverage store. The features (x variables) could be classified into three main group: demographic data, economic indicators, and number of important place. "
   ]
  },
  {
   "cell_type": "code",
   "execution_count": 1,
   "metadata": {},
   "outputs": [],
   "source": [
    "import pandas as pd\n",
    "import statsmodels.api as sm\n",
    "from sklearn import preprocessing, linear_model\n",
    "from sklearn.tree import DecisionTreeRegressor\n",
    "from sklearn.tree import DecisionTreeClassifier\n",
    "from sklearn.model_selection import cross_val_score\n",
    "from sklearn.model_selection import cross_val_predict\n",
    "from sklearn.metrics import confusion_matrix,accuracy_score\n",
    "from sklearn.utils import shuffle\n",
    "from sklearn.ensemble import RandomForestClassifier\n",
    "from sklearn.ensemble import GradientBoostingClassifier\n",
    "from sklearn.model_selection import train_test_split\n",
    "import matplotlib.pyplot as plt\n",
    "import warnings\n",
    "from sklearn.model_selection import train_test_split\n",
    "warnings.filterwarnings(\"ignore\")"
   ]
  },
  {
   "cell_type": "code",
   "execution_count": 2,
   "metadata": {
    "scrolled": true
   },
   "outputs": [
    {
     "data": {
      "text/html": [
       "<div>\n",
       "<style scoped>\n",
       "    .dataframe tbody tr th:only-of-type {\n",
       "        vertical-align: middle;\n",
       "    }\n",
       "\n",
       "    .dataframe tbody tr th {\n",
       "        vertical-align: top;\n",
       "    }\n",
       "\n",
       "    .dataframe thead th {\n",
       "        text-align: right;\n",
       "    }\n",
       "</style>\n",
       "<table border=\"1\" class=\"dataframe\">\n",
       "  <thead>\n",
       "    <tr style=\"text-align: right;\">\n",
       "      <th></th>\n",
       "      <th>name</th>\n",
       "      <th>MRT_min_distance</th>\n",
       "      <th>MRT_count_500</th>\n",
       "      <th>MRT_count_1000</th>\n",
       "      <th>mall_distance500</th>\n",
       "      <th>mall_distance1000</th>\n",
       "      <th>school_distance500</th>\n",
       "      <th>school_distance1000</th>\n",
       "      <th>school_distance1500</th>\n",
       "      <th>spot_distance_1000</th>\n",
       "      <th>...</th>\n",
       "      <th>高中職</th>\n",
       "      <th>國中</th>\n",
       "      <th>國小</th>\n",
       "      <th>自修</th>\n",
       "      <th>不識字</th>\n",
       "      <th>所得中位數</th>\n",
       "      <th>購買力指數</th>\n",
       "      <th>零售飽和指數</th>\n",
       "      <th>租金</th>\n",
       "      <th>選址成功</th>\n",
       "    </tr>\n",
       "  </thead>\n",
       "  <tbody>\n",
       "    <tr>\n",
       "      <th>0</th>\n",
       "      <td>迷客夏農安店</td>\n",
       "      <td>0.7</td>\n",
       "      <td>0</td>\n",
       "      <td>2</td>\n",
       "      <td>0</td>\n",
       "      <td>0</td>\n",
       "      <td>3</td>\n",
       "      <td>9</td>\n",
       "      <td>14</td>\n",
       "      <td>3</td>\n",
       "      <td>...</td>\n",
       "      <td>0.247804</td>\n",
       "      <td>0.067583</td>\n",
       "      <td>0.063528</td>\n",
       "      <td>0.002478</td>\n",
       "      <td>0.002478</td>\n",
       "      <td>723</td>\n",
       "      <td>0.091203</td>\n",
       "      <td>4.504460e+08</td>\n",
       "      <td>446.000000</td>\n",
       "      <td>1</td>\n",
       "    </tr>\n",
       "    <tr>\n",
       "      <th>1</th>\n",
       "      <td>迷客夏遼寧店</td>\n",
       "      <td>0.6</td>\n",
       "      <td>0</td>\n",
       "      <td>3</td>\n",
       "      <td>1</td>\n",
       "      <td>4</td>\n",
       "      <td>1</td>\n",
       "      <td>3</td>\n",
       "      <td>5</td>\n",
       "      <td>1</td>\n",
       "      <td>...</td>\n",
       "      <td>0.203498</td>\n",
       "      <td>0.061578</td>\n",
       "      <td>0.048096</td>\n",
       "      <td>0.000729</td>\n",
       "      <td>0.001822</td>\n",
       "      <td>824</td>\n",
       "      <td>0.091203</td>\n",
       "      <td>4.504460e+08</td>\n",
       "      <td>1235.333333</td>\n",
       "      <td>1</td>\n",
       "    </tr>\n",
       "    <tr>\n",
       "      <th>2</th>\n",
       "      <td>迷客夏錦洲店</td>\n",
       "      <td>0.5</td>\n",
       "      <td>2</td>\n",
       "      <td>3</td>\n",
       "      <td>0</td>\n",
       "      <td>0</td>\n",
       "      <td>0</td>\n",
       "      <td>2</td>\n",
       "      <td>4</td>\n",
       "      <td>1</td>\n",
       "      <td>...</td>\n",
       "      <td>0.213425</td>\n",
       "      <td>0.050747</td>\n",
       "      <td>0.048659</td>\n",
       "      <td>0.000964</td>\n",
       "      <td>0.001767</td>\n",
       "      <td>807</td>\n",
       "      <td>0.091203</td>\n",
       "      <td>4.504460e+08</td>\n",
       "      <td>1063.666667</td>\n",
       "      <td>1</td>\n",
       "    </tr>\n",
       "    <tr>\n",
       "      <th>3</th>\n",
       "      <td>迷客夏伊通店</td>\n",
       "      <td>0.2</td>\n",
       "      <td>1</td>\n",
       "      <td>2</td>\n",
       "      <td>0</td>\n",
       "      <td>0</td>\n",
       "      <td>2</td>\n",
       "      <td>5</td>\n",
       "      <td>6</td>\n",
       "      <td>0</td>\n",
       "      <td>...</td>\n",
       "      <td>0.216047</td>\n",
       "      <td>0.053700</td>\n",
       "      <td>0.050578</td>\n",
       "      <td>0.000000</td>\n",
       "      <td>0.000937</td>\n",
       "      <td>719</td>\n",
       "      <td>0.091203</td>\n",
       "      <td>4.504460e+08</td>\n",
       "      <td>957.666667</td>\n",
       "      <td>1</td>\n",
       "    </tr>\n",
       "    <tr>\n",
       "      <th>4</th>\n",
       "      <td>迷客夏台北車站店</td>\n",
       "      <td>1.0</td>\n",
       "      <td>0</td>\n",
       "      <td>3</td>\n",
       "      <td>5</td>\n",
       "      <td>6</td>\n",
       "      <td>0</td>\n",
       "      <td>4</td>\n",
       "      <td>8</td>\n",
       "      <td>4</td>\n",
       "      <td>...</td>\n",
       "      <td>0.218496</td>\n",
       "      <td>0.049065</td>\n",
       "      <td>0.032474</td>\n",
       "      <td>0.000706</td>\n",
       "      <td>0.002471</td>\n",
       "      <td>795</td>\n",
       "      <td>0.062155</td>\n",
       "      <td>3.600623e+08</td>\n",
       "      <td>736.000000</td>\n",
       "      <td>1</td>\n",
       "    </tr>\n",
       "    <tr>\n",
       "      <th>...</th>\n",
       "      <td>...</td>\n",
       "      <td>...</td>\n",
       "      <td>...</td>\n",
       "      <td>...</td>\n",
       "      <td>...</td>\n",
       "      <td>...</td>\n",
       "      <td>...</td>\n",
       "      <td>...</td>\n",
       "      <td>...</td>\n",
       "      <td>...</td>\n",
       "      <td>...</td>\n",
       "      <td>...</td>\n",
       "      <td>...</td>\n",
       "      <td>...</td>\n",
       "      <td>...</td>\n",
       "      <td>...</td>\n",
       "      <td>...</td>\n",
       "      <td>...</td>\n",
       "      <td>...</td>\n",
       "      <td>...</td>\n",
       "      <td>...</td>\n",
       "    </tr>\n",
       "    <tr>\n",
       "      <th>419</th>\n",
       "      <td>292台北市北投區石牌路2段343巷8弄28-2號</td>\n",
       "      <td>2.8</td>\n",
       "      <td>0</td>\n",
       "      <td>0</td>\n",
       "      <td>0</td>\n",
       "      <td>0</td>\n",
       "      <td>0</td>\n",
       "      <td>0</td>\n",
       "      <td>0</td>\n",
       "      <td>0</td>\n",
       "      <td>...</td>\n",
       "      <td>0.223782</td>\n",
       "      <td>0.054328</td>\n",
       "      <td>0.061531</td>\n",
       "      <td>0.000733</td>\n",
       "      <td>0.003540</td>\n",
       "      <td>810</td>\n",
       "      <td>0.089724</td>\n",
       "      <td>1.095532e+09</td>\n",
       "      <td>810.333333</td>\n",
       "      <td>0</td>\n",
       "    </tr>\n",
       "    <tr>\n",
       "      <th>420</th>\n",
       "      <td>293台北市信義區紫雲街72號</td>\n",
       "      <td>3.2</td>\n",
       "      <td>0</td>\n",
       "      <td>0</td>\n",
       "      <td>0</td>\n",
       "      <td>0</td>\n",
       "      <td>0</td>\n",
       "      <td>0</td>\n",
       "      <td>0</td>\n",
       "      <td>0</td>\n",
       "      <td>...</td>\n",
       "      <td>0.208367</td>\n",
       "      <td>0.058375</td>\n",
       "      <td>0.052213</td>\n",
       "      <td>0.001135</td>\n",
       "      <td>0.003405</td>\n",
       "      <td>769</td>\n",
       "      <td>0.087254</td>\n",
       "      <td>7.042802e+08</td>\n",
       "      <td>512.000000</td>\n",
       "      <td>0</td>\n",
       "    </tr>\n",
       "    <tr>\n",
       "      <th>421</th>\n",
       "      <td>298台北市萬華區長順街2號</td>\n",
       "      <td>1.2</td>\n",
       "      <td>0</td>\n",
       "      <td>0</td>\n",
       "      <td>0</td>\n",
       "      <td>0</td>\n",
       "      <td>0</td>\n",
       "      <td>2</td>\n",
       "      <td>2</td>\n",
       "      <td>0</td>\n",
       "      <td>...</td>\n",
       "      <td>0.324331</td>\n",
       "      <td>0.142100</td>\n",
       "      <td>0.143867</td>\n",
       "      <td>0.003281</td>\n",
       "      <td>0.012872</td>\n",
       "      <td>556</td>\n",
       "      <td>0.068733</td>\n",
       "      <td>1.220540e+09</td>\n",
       "      <td>283.333333</td>\n",
       "      <td>0</td>\n",
       "    </tr>\n",
       "    <tr>\n",
       "      <th>422</th>\n",
       "      <td>299台北市北投區行義路456號</td>\n",
       "      <td>3.1</td>\n",
       "      <td>0</td>\n",
       "      <td>0</td>\n",
       "      <td>0</td>\n",
       "      <td>0</td>\n",
       "      <td>1</td>\n",
       "      <td>1</td>\n",
       "      <td>1</td>\n",
       "      <td>0</td>\n",
       "      <td>...</td>\n",
       "      <td>0.223782</td>\n",
       "      <td>0.054328</td>\n",
       "      <td>0.061531</td>\n",
       "      <td>0.000733</td>\n",
       "      <td>0.003540</td>\n",
       "      <td>810</td>\n",
       "      <td>0.089724</td>\n",
       "      <td>1.095532e+09</td>\n",
       "      <td>570.666667</td>\n",
       "      <td>0</td>\n",
       "    </tr>\n",
       "    <tr>\n",
       "      <th>423</th>\n",
       "      <td>300台北市大安區新生南路3段54巷16號</td>\n",
       "      <td>0.7</td>\n",
       "      <td>0</td>\n",
       "      <td>2</td>\n",
       "      <td>0</td>\n",
       "      <td>0</td>\n",
       "      <td>0</td>\n",
       "      <td>3</td>\n",
       "      <td>8</td>\n",
       "      <td>2</td>\n",
       "      <td>...</td>\n",
       "      <td>0.165369</td>\n",
       "      <td>0.032863</td>\n",
       "      <td>0.029035</td>\n",
       "      <td>0.001980</td>\n",
       "      <td>0.001452</td>\n",
       "      <td>883</td>\n",
       "      <td>0.125343</td>\n",
       "      <td>1.003157e+09</td>\n",
       "      <td>983.333333</td>\n",
       "      <td>0</td>\n",
       "    </tr>\n",
       "  </tbody>\n",
       "</table>\n",
       "<p>424 rows × 55 columns</p>\n",
       "</div>"
      ],
      "text/plain": [
       "                          name  MRT_min_distance  MRT_count_500  \\\n",
       "0                       迷客夏農安店               0.7              0   \n",
       "1                       迷客夏遼寧店               0.6              0   \n",
       "2                       迷客夏錦洲店               0.5              2   \n",
       "3                       迷客夏伊通店               0.2              1   \n",
       "4                     迷客夏台北車站店               1.0              0   \n",
       "..                         ...               ...            ...   \n",
       "419  292台北市北投區石牌路2段343巷8弄28-2號               2.8              0   \n",
       "420            293台北市信義區紫雲街72號               3.2              0   \n",
       "421             298台北市萬華區長順街2號               1.2              0   \n",
       "422           299台北市北投區行義路456號               3.1              0   \n",
       "423      300台北市大安區新生南路3段54巷16號               0.7              0   \n",
       "\n",
       "     MRT_count_1000  mall_distance500  mall_distance1000  school_distance500  \\\n",
       "0                 2                 0                  0                   3   \n",
       "1                 3                 1                  4                   1   \n",
       "2                 3                 0                  0                   0   \n",
       "3                 2                 0                  0                   2   \n",
       "4                 3                 5                  6                   0   \n",
       "..              ...               ...                ...                 ...   \n",
       "419               0                 0                  0                   0   \n",
       "420               0                 0                  0                   0   \n",
       "421               0                 0                  0                   0   \n",
       "422               0                 0                  0                   1   \n",
       "423               2                 0                  0                   0   \n",
       "\n",
       "     school_distance1000  school_distance1500  spot_distance_1000  ...  \\\n",
       "0                      9                   14                   3  ...   \n",
       "1                      3                    5                   1  ...   \n",
       "2                      2                    4                   1  ...   \n",
       "3                      5                    6                   0  ...   \n",
       "4                      4                    8                   4  ...   \n",
       "..                   ...                  ...                 ...  ...   \n",
       "419                    0                    0                   0  ...   \n",
       "420                    0                    0                   0  ...   \n",
       "421                    2                    2                   0  ...   \n",
       "422                    1                    1                   0  ...   \n",
       "423                    3                    8                   2  ...   \n",
       "\n",
       "          高中職        國中        國小        自修       不識字  所得中位數     購買力指數  \\\n",
       "0    0.247804  0.067583  0.063528  0.002478  0.002478    723  0.091203   \n",
       "1    0.203498  0.061578  0.048096  0.000729  0.001822    824  0.091203   \n",
       "2    0.213425  0.050747  0.048659  0.000964  0.001767    807  0.091203   \n",
       "3    0.216047  0.053700  0.050578  0.000000  0.000937    719  0.091203   \n",
       "4    0.218496  0.049065  0.032474  0.000706  0.002471    795  0.062155   \n",
       "..        ...       ...       ...       ...       ...    ...       ...   \n",
       "419  0.223782  0.054328  0.061531  0.000733  0.003540    810  0.089724   \n",
       "420  0.208367  0.058375  0.052213  0.001135  0.003405    769  0.087254   \n",
       "421  0.324331  0.142100  0.143867  0.003281  0.012872    556  0.068733   \n",
       "422  0.223782  0.054328  0.061531  0.000733  0.003540    810  0.089724   \n",
       "423  0.165369  0.032863  0.029035  0.001980  0.001452    883  0.125343   \n",
       "\n",
       "           零售飽和指數           租金  選址成功  \n",
       "0    4.504460e+08   446.000000     1  \n",
       "1    4.504460e+08  1235.333333     1  \n",
       "2    4.504460e+08  1063.666667     1  \n",
       "3    4.504460e+08   957.666667     1  \n",
       "4    3.600623e+08   736.000000     1  \n",
       "..            ...          ...   ...  \n",
       "419  1.095532e+09   810.333333     0  \n",
       "420  7.042802e+08   512.000000     0  \n",
       "421  1.220540e+09   283.333333     0  \n",
       "422  1.095532e+09   570.666667     0  \n",
       "423  1.003157e+09   983.333333     0  \n",
       "\n",
       "[424 rows x 55 columns]"
      ]
     },
     "execution_count": 2,
     "metadata": {},
     "output_type": "execute_result"
    }
   ],
   "source": [
    "import pandas as pd\n",
    "data=pd.read_csv(\"all_merge_afterdelete.csv\",encoding='Big5')\n",
    "data"
   ]
  },
  {
   "cell_type": "code",
   "execution_count": 3,
   "metadata": {},
   "outputs": [],
   "source": [
    "X=data.drop([\"name\",\"選址成功\"],axis=1)\n",
    "y=data[\"選址成功\"]"
   ]
  },
  {
   "cell_type": "markdown",
   "metadata": {},
   "source": [
    "#### Data distribution"
   ]
  },
  {
   "cell_type": "code",
   "execution_count": 4,
   "metadata": {},
   "outputs": [
    {
     "data": {
      "image/png": "[encoded data removed]",
      "text/plain": [
       "<Figure size 576x288 with 1 Axes>"
      ]
     },
     "metadata": {
      "needs_background": "light"
     },
     "output_type": "display_data"
    }
   ],
   "source": [
    "plt.figure(figsize=(8, 4))\n",
    "plt.bar([\"success\",\"failure\"],\n",
    "        [len(y[y==1]),len(y[y==0])], \n",
    "        width=0.5, \n",
    "        bottom=None, \n",
    "        align='center', \n",
    "        color=['darkorange','tan'])\n",
    "\n",
    "for xx,yy in zip([\"success\",\"failure\"],[218,206]):\n",
    "    plt.text(xx,yy,'%2d (%.2f%s)' %(yy,100*yy/424,\"%\"), ha='center',va='bottom')\n",
    "\n",
    "plt.ylim(180,230)\n",
    "plt.title(\"class\")\n",
    "plt.show()"
   ]
  },
  {
   "cell_type": "code",
   "execution_count": 5,
   "metadata": {
    "scrolled": true
   },
   "outputs": [
    {
     "data": {
      "image/png": "[encoded data removed]",
      "text/plain": [
       "<Figure size 576x288 with 1 Axes>"
      ]
     },
     "metadata": {
      "needs_background": "light"
     },
     "output_type": "display_data"
    }
   ],
   "source": [
    "plt.figure(figsize=(8, 4))\n",
    "plt.bar([\"milkshop\",\"50lan\",\"chinshin\",\"MACU\",\"chunshuitang\"],\n",
    "        [32,75,80,19,12], \n",
    "        width=0.5, \n",
    "        bottom=None, \n",
    "        align='center', \n",
    "        color=['darkorange','tan','goldenrod', 'darkgoldenrod'])\n",
    "for xx,yy in zip([\"milkshop\",\"50lan\",\"chinshin\",\"MACU\",\"chunshuitang\"], \n",
    "               [32,75,80,19,12]):\n",
    "        plt.text(xx,yy,'%2d' %yy, ha='center',va='bottom')\n",
    "\n",
    "plt.title(\"class\")\n",
    "plt.show()"
   ]
  },
  {
   "cell_type": "code",
   "execution_count": 6,
   "metadata": {},
   "outputs": [
    {
     "data": {
      "text/html": [
       "<div>\n",
       "<style scoped>\n",
       "    .dataframe tbody tr th:only-of-type {\n",
       "        vertical-align: middle;\n",
       "    }\n",
       "\n",
       "    .dataframe tbody tr th {\n",
       "        vertical-align: top;\n",
       "    }\n",
       "\n",
       "    .dataframe thead th {\n",
       "        text-align: right;\n",
       "    }\n",
       "</style>\n",
       "<table border=\"1\" class=\"dataframe\">\n",
       "  <thead>\n",
       "    <tr style=\"text-align: right;\">\n",
       "      <th></th>\n",
       "      <th>MRT_min_distance</th>\n",
       "      <th>MRT_count_500</th>\n",
       "      <th>MRT_count_1000</th>\n",
       "      <th>mall_distance500</th>\n",
       "      <th>mall_distance1000</th>\n",
       "      <th>school_distance500</th>\n",
       "      <th>school_distance1000</th>\n",
       "      <th>school_distance1500</th>\n",
       "      <th>spot_distance_1000</th>\n",
       "      <th>spot_distance_2000</th>\n",
       "      <th>...</th>\n",
       "      <th>大專</th>\n",
       "      <th>高中職</th>\n",
       "      <th>國中</th>\n",
       "      <th>國小</th>\n",
       "      <th>自修</th>\n",
       "      <th>不識字</th>\n",
       "      <th>所得中位數</th>\n",
       "      <th>購買力指數</th>\n",
       "      <th>零售飽和指數</th>\n",
       "      <th>租金</th>\n",
       "    </tr>\n",
       "  </thead>\n",
       "  <tbody>\n",
       "    <tr>\n",
       "      <th>0</th>\n",
       "      <td>2.2</td>\n",
       "      <td>0</td>\n",
       "      <td>0</td>\n",
       "      <td>0</td>\n",
       "      <td>0</td>\n",
       "      <td>1</td>\n",
       "      <td>4</td>\n",
       "      <td>7</td>\n",
       "      <td>0</td>\n",
       "      <td>0</td>\n",
       "      <td>...</td>\n",
       "      <td>0.475760</td>\n",
       "      <td>0.246347</td>\n",
       "      <td>0.071909</td>\n",
       "      <td>0.080956</td>\n",
       "      <td>0.001624</td>\n",
       "      <td>0.005799</td>\n",
       "      <td>700</td>\n",
       "      <td>0.096850</td>\n",
       "      <td>1.276191e+09</td>\n",
       "      <td>420.000000</td>\n",
       "    </tr>\n",
       "    <tr>\n",
       "      <th>1</th>\n",
       "      <td>0.8</td>\n",
       "      <td>0</td>\n",
       "      <td>1</td>\n",
       "      <td>1</td>\n",
       "      <td>2</td>\n",
       "      <td>1</td>\n",
       "      <td>3</td>\n",
       "      <td>5</td>\n",
       "      <td>1</td>\n",
       "      <td>1</td>\n",
       "      <td>...</td>\n",
       "      <td>0.532583</td>\n",
       "      <td>0.203791</td>\n",
       "      <td>0.053318</td>\n",
       "      <td>0.052725</td>\n",
       "      <td>0.000790</td>\n",
       "      <td>0.002567</td>\n",
       "      <td>754</td>\n",
       "      <td>0.102633</td>\n",
       "      <td>9.015524e+08</td>\n",
       "      <td>558.000000</td>\n",
       "    </tr>\n",
       "    <tr>\n",
       "      <th>2</th>\n",
       "      <td>0.7</td>\n",
       "      <td>0</td>\n",
       "      <td>3</td>\n",
       "      <td>0</td>\n",
       "      <td>0</td>\n",
       "      <td>1</td>\n",
       "      <td>7</td>\n",
       "      <td>16</td>\n",
       "      <td>3</td>\n",
       "      <td>5</td>\n",
       "      <td>...</td>\n",
       "      <td>0.481257</td>\n",
       "      <td>0.234717</td>\n",
       "      <td>0.066897</td>\n",
       "      <td>0.084198</td>\n",
       "      <td>0.000865</td>\n",
       "      <td>0.004325</td>\n",
       "      <td>713</td>\n",
       "      <td>0.102633</td>\n",
       "      <td>9.015524e+08</td>\n",
       "      <td>735.666667</td>\n",
       "    </tr>\n",
       "    <tr>\n",
       "      <th>3</th>\n",
       "      <td>0.6</td>\n",
       "      <td>0</td>\n",
       "      <td>1</td>\n",
       "      <td>0</td>\n",
       "      <td>0</td>\n",
       "      <td>0</td>\n",
       "      <td>5</td>\n",
       "      <td>5</td>\n",
       "      <td>1</td>\n",
       "      <td>9</td>\n",
       "      <td>...</td>\n",
       "      <td>0.496926</td>\n",
       "      <td>0.232996</td>\n",
       "      <td>0.061075</td>\n",
       "      <td>0.079120</td>\n",
       "      <td>0.000793</td>\n",
       "      <td>0.004164</td>\n",
       "      <td>736</td>\n",
       "      <td>0.102633</td>\n",
       "      <td>9.015524e+08</td>\n",
       "      <td>924.000000</td>\n",
       "    </tr>\n",
       "    <tr>\n",
       "      <th>4</th>\n",
       "      <td>1.0</td>\n",
       "      <td>0</td>\n",
       "      <td>1</td>\n",
       "      <td>0</td>\n",
       "      <td>0</td>\n",
       "      <td>1</td>\n",
       "      <td>2</td>\n",
       "      <td>2</td>\n",
       "      <td>0</td>\n",
       "      <td>9</td>\n",
       "      <td>...</td>\n",
       "      <td>0.365425</td>\n",
       "      <td>0.283544</td>\n",
       "      <td>0.129538</td>\n",
       "      <td>0.141692</td>\n",
       "      <td>0.003518</td>\n",
       "      <td>0.009755</td>\n",
       "      <td>594</td>\n",
       "      <td>0.068733</td>\n",
       "      <td>1.220540e+09</td>\n",
       "      <td>283.333333</td>\n",
       "    </tr>\n",
       "    <tr>\n",
       "      <th>...</th>\n",
       "      <td>...</td>\n",
       "      <td>...</td>\n",
       "      <td>...</td>\n",
       "      <td>...</td>\n",
       "      <td>...</td>\n",
       "      <td>...</td>\n",
       "      <td>...</td>\n",
       "      <td>...</td>\n",
       "      <td>...</td>\n",
       "      <td>...</td>\n",
       "      <td>...</td>\n",
       "      <td>...</td>\n",
       "      <td>...</td>\n",
       "      <td>...</td>\n",
       "      <td>...</td>\n",
       "      <td>...</td>\n",
       "      <td>...</td>\n",
       "      <td>...</td>\n",
       "      <td>...</td>\n",
       "      <td>...</td>\n",
       "      <td>...</td>\n",
       "    </tr>\n",
       "    <tr>\n",
       "      <th>334</th>\n",
       "      <td>3.1</td>\n",
       "      <td>0</td>\n",
       "      <td>0</td>\n",
       "      <td>0</td>\n",
       "      <td>0</td>\n",
       "      <td>0</td>\n",
       "      <td>0</td>\n",
       "      <td>1</td>\n",
       "      <td>0</td>\n",
       "      <td>0</td>\n",
       "      <td>...</td>\n",
       "      <td>0.491093</td>\n",
       "      <td>0.237175</td>\n",
       "      <td>0.065465</td>\n",
       "      <td>0.075767</td>\n",
       "      <td>0.001717</td>\n",
       "      <td>0.001932</td>\n",
       "      <td>721</td>\n",
       "      <td>0.102633</td>\n",
       "      <td>9.015524e+08</td>\n",
       "      <td>590.666667</td>\n",
       "    </tr>\n",
       "    <tr>\n",
       "      <th>335</th>\n",
       "      <td>1.0</td>\n",
       "      <td>0</td>\n",
       "      <td>1</td>\n",
       "      <td>0</td>\n",
       "      <td>0</td>\n",
       "      <td>2</td>\n",
       "      <td>2</td>\n",
       "      <td>6</td>\n",
       "      <td>2</td>\n",
       "      <td>8</td>\n",
       "      <td>...</td>\n",
       "      <td>0.556151</td>\n",
       "      <td>0.201957</td>\n",
       "      <td>0.048110</td>\n",
       "      <td>0.040472</td>\n",
       "      <td>0.000670</td>\n",
       "      <td>0.001206</td>\n",
       "      <td>762</td>\n",
       "      <td>0.081524</td>\n",
       "      <td>8.589323e+08</td>\n",
       "      <td>369.333333</td>\n",
       "    </tr>\n",
       "    <tr>\n",
       "      <th>336</th>\n",
       "      <td>0.9</td>\n",
       "      <td>0</td>\n",
       "      <td>1</td>\n",
       "      <td>1</td>\n",
       "      <td>4</td>\n",
       "      <td>0</td>\n",
       "      <td>1</td>\n",
       "      <td>1</td>\n",
       "      <td>2</td>\n",
       "      <td>2</td>\n",
       "      <td>...</td>\n",
       "      <td>0.507752</td>\n",
       "      <td>0.207215</td>\n",
       "      <td>0.052624</td>\n",
       "      <td>0.057841</td>\n",
       "      <td>0.001193</td>\n",
       "      <td>0.003131</td>\n",
       "      <td>1041</td>\n",
       "      <td>0.091203</td>\n",
       "      <td>4.504460e+08</td>\n",
       "      <td>639.666667</td>\n",
       "    </tr>\n",
       "    <tr>\n",
       "      <th>337</th>\n",
       "      <td>4.9</td>\n",
       "      <td>0</td>\n",
       "      <td>0</td>\n",
       "      <td>0</td>\n",
       "      <td>0</td>\n",
       "      <td>0</td>\n",
       "      <td>0</td>\n",
       "      <td>0</td>\n",
       "      <td>0</td>\n",
       "      <td>0</td>\n",
       "      <td>...</td>\n",
       "      <td>0.498281</td>\n",
       "      <td>0.247031</td>\n",
       "      <td>0.079062</td>\n",
       "      <td>0.067187</td>\n",
       "      <td>0.000469</td>\n",
       "      <td>0.004375</td>\n",
       "      <td>742</td>\n",
       "      <td>0.106293</td>\n",
       "      <td>1.025556e+09</td>\n",
       "      <td>413.666667</td>\n",
       "    </tr>\n",
       "    <tr>\n",
       "      <th>338</th>\n",
       "      <td>1.0</td>\n",
       "      <td>0</td>\n",
       "      <td>1</td>\n",
       "      <td>0</td>\n",
       "      <td>0</td>\n",
       "      <td>0</td>\n",
       "      <td>0</td>\n",
       "      <td>1</td>\n",
       "      <td>1</td>\n",
       "      <td>3</td>\n",
       "      <td>...</td>\n",
       "      <td>0.429442</td>\n",
       "      <td>0.259406</td>\n",
       "      <td>0.100493</td>\n",
       "      <td>0.112680</td>\n",
       "      <td>0.002708</td>\n",
       "      <td>0.007351</td>\n",
       "      <td>674</td>\n",
       "      <td>0.089724</td>\n",
       "      <td>1.095532e+09</td>\n",
       "      <td>505.333333</td>\n",
       "    </tr>\n",
       "  </tbody>\n",
       "</table>\n",
       "<p>339 rows × 53 columns</p>\n",
       "</div>"
      ],
      "text/plain": [
       "     MRT_min_distance  MRT_count_500  MRT_count_1000  mall_distance500  \\\n",
       "0                 2.2              0               0                 0   \n",
       "1                 0.8              0               1                 1   \n",
       "2                 0.7              0               3                 0   \n",
       "3                 0.6              0               1                 0   \n",
       "4                 1.0              0               1                 0   \n",
       "..                ...            ...             ...               ...   \n",
       "334               3.1              0               0                 0   \n",
       "335               1.0              0               1                 0   \n",
       "336               0.9              0               1                 1   \n",
       "337               4.9              0               0                 0   \n",
       "338               1.0              0               1                 0   \n",
       "\n",
       "     mall_distance1000  school_distance500  school_distance1000  \\\n",
       "0                    0                   1                    4   \n",
       "1                    2                   1                    3   \n",
       "2                    0                   1                    7   \n",
       "3                    0                   0                    5   \n",
       "4                    0                   1                    2   \n",
       "..                 ...                 ...                  ...   \n",
       "334                  0                   0                    0   \n",
       "335                  0                   2                    2   \n",
       "336                  4                   0                    1   \n",
       "337                  0                   0                    0   \n",
       "338                  0                   0                    0   \n",
       "\n",
       "     school_distance1500  spot_distance_1000  spot_distance_2000  ...  \\\n",
       "0                      7                   0                   0  ...   \n",
       "1                      5                   1                   1  ...   \n",
       "2                     16                   3                   5  ...   \n",
       "3                      5                   1                   9  ...   \n",
       "4                      2                   0                   9  ...   \n",
       "..                   ...                 ...                 ...  ...   \n",
       "334                    1                   0                   0  ...   \n",
       "335                    6                   2                   8  ...   \n",
       "336                    1                   2                   2  ...   \n",
       "337                    0                   0                   0  ...   \n",
       "338                    1                   1                   3  ...   \n",
       "\n",
       "           大專       高中職        國中        國小        自修       不識字  所得中位數  \\\n",
       "0    0.475760  0.246347  0.071909  0.080956  0.001624  0.005799    700   \n",
       "1    0.532583  0.203791  0.053318  0.052725  0.000790  0.002567    754   \n",
       "2    0.481257  0.234717  0.066897  0.084198  0.000865  0.004325    713   \n",
       "3    0.496926  0.232996  0.061075  0.079120  0.000793  0.004164    736   \n",
       "4    0.365425  0.283544  0.129538  0.141692  0.003518  0.009755    594   \n",
       "..        ...       ...       ...       ...       ...       ...    ...   \n",
       "334  0.491093  0.237175  0.065465  0.075767  0.001717  0.001932    721   \n",
       "335  0.556151  0.201957  0.048110  0.040472  0.000670  0.001206    762   \n",
       "336  0.507752  0.207215  0.052624  0.057841  0.001193  0.003131   1041   \n",
       "337  0.498281  0.247031  0.079062  0.067187  0.000469  0.004375    742   \n",
       "338  0.429442  0.259406  0.100493  0.112680  0.002708  0.007351    674   \n",
       "\n",
       "        購買力指數        零售飽和指數          租金  \n",
       "0    0.096850  1.276191e+09  420.000000  \n",
       "1    0.102633  9.015524e+08  558.000000  \n",
       "2    0.102633  9.015524e+08  735.666667  \n",
       "3    0.102633  9.015524e+08  924.000000  \n",
       "4    0.068733  1.220540e+09  283.333333  \n",
       "..        ...           ...         ...  \n",
       "334  0.102633  9.015524e+08  590.666667  \n",
       "335  0.081524  8.589323e+08  369.333333  \n",
       "336  0.091203  4.504460e+08  639.666667  \n",
       "337  0.106293  1.025556e+09  413.666667  \n",
       "338  0.089724  1.095532e+09  505.333333  \n",
       "\n",
       "[339 rows x 53 columns]"
      ]
     },
     "execution_count": 6,
     "metadata": {},
     "output_type": "execute_result"
    }
   ],
   "source": [
    "X_train, X_test, y_train, y_test = train_test_split(X, y, test_size=0.2, random_state=123)\n",
    "X_train.reset_index().drop([\"index\"],axis=1)"
   ]
  },
  {
   "cell_type": "markdown",
   "metadata": {},
   "source": [
    "#### Select important features which have small p-value of logistic regression"
   ]
  },
  {
   "cell_type": "code",
   "execution_count": 7,
   "metadata": {
    "jupyter": {
     "outputs_hidden": true
    },
    "scrolled": true
   },
   "outputs": [
    {
     "name": "stdout",
     "output_type": "stream",
     "text": [
      "Optimization terminated successfully.\n",
      "         Current function value: 0.630402\n",
      "         Iterations 5\n",
      "Optimization terminated successfully.\n",
      "         Current function value: 0.635428\n",
      "         Iterations 5\n",
      "Optimization terminated successfully.\n",
      "         Current function value: 0.628854\n",
      "         Iterations 5\n",
      "Optimization terminated successfully.\n",
      "         Current function value: 0.639234\n",
      "         Iterations 7\n",
      "Optimization terminated successfully.\n",
      "         Current function value: 0.644926\n",
      "         Iterations 6\n",
      "Optimization terminated successfully.\n",
      "         Current function value: 0.651783\n",
      "         Iterations 5\n",
      "Optimization terminated successfully.\n",
      "         Current function value: 0.619982\n",
      "         Iterations 5\n",
      "Optimization terminated successfully.\n",
      "         Current function value: 0.638613\n",
      "         Iterations 5\n",
      "Optimization terminated successfully.\n",
      "         Current function value: 0.643221\n",
      "         Iterations 6\n",
      "Optimization terminated successfully.\n",
      "         Current function value: 0.642519\n",
      "         Iterations 5\n",
      "Optimization terminated successfully.\n",
      "         Current function value: 0.649137\n",
      "         Iterations 5\n",
      "Optimization terminated successfully.\n",
      "         Current function value: 0.656355\n",
      "         Iterations 4\n",
      "Optimization terminated successfully.\n",
      "         Current function value: 0.662817\n",
      "         Iterations 4\n",
      "Optimization terminated successfully.\n",
      "         Current function value: 0.692997\n",
      "         Iterations 2\n",
      "Optimization terminated successfully.\n",
      "         Current function value: 0.692905\n",
      "         Iterations 3\n",
      "Optimization terminated successfully.\n",
      "         Current function value: 0.692569\n",
      "         Iterations 3\n",
      "Optimization terminated successfully.\n",
      "         Current function value: 0.649486\n",
      "         Iterations 4\n",
      "Optimization terminated successfully.\n",
      "         Current function value: 0.692649\n",
      "         Iterations 3\n",
      "Optimization terminated successfully.\n",
      "         Current function value: 0.693113\n",
      "         Iterations 2\n",
      "Optimization terminated successfully.\n",
      "         Current function value: 0.692945\n",
      "         Iterations 3\n",
      "Optimization terminated successfully.\n",
      "         Current function value: 0.692951\n",
      "         Iterations 3\n",
      "Optimization terminated successfully.\n",
      "         Current function value: 0.692435\n",
      "         Iterations 3\n",
      "Optimization terminated successfully.\n",
      "         Current function value: 0.691806\n",
      "         Iterations 4\n",
      "Optimization terminated successfully.\n",
      "         Current function value: 0.693051\n",
      "         Iterations 3\n",
      "Optimization terminated successfully.\n",
      "         Current function value: 0.693126\n",
      "         Iterations 3\n",
      "Optimization terminated successfully.\n",
      "         Current function value: 0.693147\n",
      "         Iterations 2\n",
      "Optimization terminated successfully.\n",
      "         Current function value: 0.692933\n",
      "         Iterations 3\n",
      "Optimization terminated successfully.\n",
      "         Current function value: 0.692395\n",
      "         Iterations 3\n",
      "Optimization terminated successfully.\n",
      "         Current function value: 0.692331\n",
      "         Iterations 3\n",
      "Optimization terminated successfully.\n",
      "         Current function value: 0.692951\n",
      "         Iterations 3\n",
      "Optimization terminated successfully.\n",
      "         Current function value: 0.692991\n",
      "         Iterations 3\n",
      "Optimization terminated successfully.\n",
      "         Current function value: 0.693073\n",
      "         Iterations 3\n",
      "Optimization terminated successfully.\n",
      "         Current function value: 0.692951\n",
      "         Iterations 3\n",
      "Optimization terminated successfully.\n",
      "         Current function value: 0.691842\n",
      "         Iterations 3\n",
      "Optimization terminated successfully.\n",
      "         Current function value: 0.691120\n",
      "         Iterations 4\n",
      "Optimization terminated successfully.\n",
      "         Current function value: 0.691859\n",
      "         Iterations 3\n",
      "Optimization terminated successfully.\n",
      "         Current function value: 0.691216\n",
      "         Iterations 4\n",
      "Optimization terminated successfully.\n",
      "         Current function value: 0.691960\n",
      "         Iterations 4\n",
      "Optimization terminated successfully.\n",
      "         Current function value: 0.693084\n",
      "         Iterations 3\n",
      "Optimization terminated successfully.\n",
      "         Current function value: 0.692647\n",
      "         Iterations 4\n",
      "Optimization terminated successfully.\n",
      "         Current function value: 0.692419\n",
      "         Iterations 5\n",
      "Optimization terminated successfully.\n",
      "         Current function value: 0.693147\n",
      "         Iterations 3\n",
      "Optimization terminated successfully.\n",
      "         Current function value: 0.691876\n",
      "         Iterations 3\n",
      "Optimization terminated successfully.\n",
      "         Current function value: 0.692247\n",
      "         Iterations 3\n",
      "Optimization terminated successfully.\n",
      "         Current function value: 0.692963\n",
      "         Iterations 3\n",
      "Optimization terminated successfully.\n",
      "         Current function value: 0.693115\n",
      "         Iterations 3\n",
      "Optimization terminated successfully.\n",
      "         Current function value: 0.692582\n",
      "         Iterations 3\n",
      "Optimization terminated successfully.\n",
      "         Current function value: 0.692557\n",
      "         Iterations 4\n",
      "Optimization terminated successfully.\n",
      "         Current function value: 0.691613\n",
      "         Iterations 4\n",
      "Optimization terminated successfully.\n",
      "         Current function value: 0.692915\n",
      "         Iterations 2\n",
      "Optimization terminated successfully.\n",
      "         Current function value: 0.693136\n",
      "         Iterations 3\n",
      "Optimization terminated successfully.\n",
      "         Current function value: 0.692448\n",
      "         Iterations 1\n",
      "Optimization terminated successfully.\n",
      "         Current function value: 0.677086\n",
      "         Iterations 4\n"
     ]
    }
   ],
   "source": [
    "import statsmodels.api as sm\n",
    "data_feature_select=X\n",
    "col = []\n",
    "for i in range(len(data_feature_select.columns)):\n",
    "    log_reg = sm.Logit(y, data_feature_select[data_feature_select.columns[i]]).fit()\n",
    "    col.append([data_feature_select.columns[i],float(log_reg.pvalues)]) "
   ]
  },
  {
   "cell_type": "code",
   "execution_count": 8,
   "metadata": {},
   "outputs": [
    {
     "data": {
      "text/plain": [
       "[['MRT_min_distance', 4.496378442217501e-10],\n",
       " ['MRT_count_500', 1.5840518999892718e-09],\n",
       " ['MRT_count_1000', 2.0731970193807286e-11],\n",
       " ['mall_distance500', 3.229166690945335e-05],\n",
       " ['mall_distance1000', 4.4542606983847084e-07],\n",
       " ['school_distance500', 1.447590530985009e-07],\n",
       " ['school_distance1000', 3.5267104146783493e-12],\n",
       " ['school_distance1500', 2.546279437594702e-10],\n",
       " ['spot_distance_1000', 4.63350038723683e-08],\n",
       " ['spot_distance_2000', 4.684427801160191e-09],\n",
       " ['spot_distance_3000', 1.3041431701056549e-08],\n",
       " ['spot_distance_4000', 1.068217155609307e-07],\n",
       " ['spot_distance_5000', 1.0047880018277804e-06],\n",
       " ['人口數-合計', 0.7213221199736555],\n",
       " ['男性比例', 0.6504372611038929],\n",
       " ['女性比例', 0.48400633754546474],\n",
       " ['人口密度', 1.0978532214426255e-08],\n",
       " ['平均年齡', 0.5156115571126514],\n",
       " ['20~59歲人數', 0.8639173950959796],\n",
       " ['20~59歲比例', 0.6788827145227161],\n",
       " ['合計_0~4歲', 0.6835586793000525],\n",
       " ['合計_5~9歲', 0.43728940312459397],\n",
       " ['合計_10~14歲', 0.28673627282468894],\n",
       " ['合計_15~19歲', 0.7746817879785614],\n",
       " ['合計_20~24歲', 0.8923937179680127],\n",
       " ['合計_25~29歲', 0.9950221281988919],\n",
       " ['合計_30~34歲', 0.6700810040840892],\n",
       " ['合計_35~39歲', 0.424581049587213],\n",
       " ['合計_40~44歲', 0.40561897990233886],\n",
       " ['合計_45~49歲', 0.6833422136459932],\n",
       " ['合計_50~54歲', 0.7163036760222241],\n",
       " ['合計_55~59歲', 0.8013288528247722],\n",
       " ['合計_60~64歲', 0.6837713289366055],\n",
       " ['合計_65~69歲', 0.29319079759367606],\n",
       " ['合計_70~74歲', 0.1903743832266337],\n",
       " ['合計_75~79歲', 0.296339505548712],\n",
       " ['合計_80~84歲', 0.20119382189177548],\n",
       " ['合計_85~89歲', 0.3161430918480369],\n",
       " ['合計_90~94歲', 0.8175822155519381],\n",
       " ['合計_95~99歲', 0.5153237027122372],\n",
       " ['100歲以上', 0.43542111303174846],\n",
       " ['博', 0.9829503278243884],\n",
       " ['碩', 0.2995078627714185],\n",
       " ['大專', 0.3825802472793788],\n",
       " ['高中職', 0.6928989380379154],\n",
       " ['國中', 0.8689166197320504],\n",
       " ['國小', 0.4888976961487652],\n",
       " ['自修', 0.4796207566542203],\n",
       " ['不識字', 0.2550915952484112],\n",
       " ['所得中位數', 0.6573677660492827],\n",
       " ['購買力指數', 0.9209172506707913],\n",
       " ['零售飽和指數', 0.44167677767584745],\n",
       " ['租金', 0.0003492040977197921]]"
      ]
     },
     "execution_count": 8,
     "metadata": {},
     "output_type": "execute_result"
    }
   ],
   "source": [
    "col"
   ]
  },
  {
   "cell_type": "markdown",
   "metadata": {},
   "source": [
    "The selected features and their p-values are list below:  \n",
    "1. MRT_count_1000: 4.496378442217501e-10  \n",
    "2. mall_distance1000: 4.4542606983847084e-07  \n",
    "3. school_distance1000: 3.5267104146783493e-12  \n",
    "4. spot_distance_2000: 4.684427801160191e-09  \n",
    "5. poopulation density: 1.0978532214426182e-08  \n",
    "6. rental cost: 0.0003492040977197921  "
   ]
  },
  {
   "cell_type": "code",
   "execution_count": 9,
   "metadata": {},
   "outputs": [],
   "source": [
    "X_feseleced=X_train[['MRT_count_1000','mall_distance1000','school_distance1000','spot_distance_2000','人口密度','租金']]\n",
    "X_train_val, X_val, y_train_val, y_val = train_test_split(X_feseleced, y_train, test_size=0.2, random_state=1)"
   ]
  },
  {
   "cell_type": "markdown",
   "metadata": {},
   "source": [
    "#### Decision tree model\n",
    "Build the decision tree model by the selected features and tune hyperparameter \"max_depth\" from 1 to 15"
   ]
  },
  {
   "cell_type": "code",
   "execution_count": 10,
   "metadata": {},
   "outputs": [
    {
     "name": "stdout",
     "output_type": "stream",
     "text": [
      "[0.75, 0.7794117647058824, 0.8529411764705882, 0.8382352941176471, 0.8382352941176471, 0.75, 0.7941176470588235, 0.7647058823529411, 0.7647058823529411, 0.7647058823529411, 0.7941176470588235, 0.7941176470588235, 0.7941176470588235, 0.7941176470588235]\n",
      "3\n"
     ]
    }
   ],
   "source": [
    "acc=[]\n",
    "depth=[]\n",
    "for i in range(1,15):\n",
    "    tree_model=DecisionTreeClassifier(random_state=87,max_depth = i)\n",
    "    tree_model.fit(X_train_val,y_train_val)\n",
    "    acc.append(tree_model.score(X_val,y_val))\n",
    "    depth.append(i)\n",
    "\n",
    "print(acc)\n",
    "print(acc.index(max(acc))+1)"
   ]
  },
  {
   "cell_type": "code",
   "execution_count": 11,
   "metadata": {},
   "outputs": [
    {
     "data": {
      "image/png": "[encoded data removed]",
      "text/plain": [
       "<Figure size 576x288 with 1 Axes>"
      ]
     },
     "metadata": {
      "needs_background": "light"
     },
     "output_type": "display_data"
    }
   ],
   "source": [
    "import matplotlib.pyplot as plt\n",
    "plt.figure(figsize=(8, 4))\n",
    "plt.plot(depth,acc,color='darkorange')\n",
    "plt.xlabel(\"depth\")\n",
    "plt.ylabel(\"accuracy\")\n",
    "plt.title(\"Decision Tree depth\")\n",
    "for x,y in zip(depth, \n",
    "               acc):\n",
    "        plt.text(x,y,'%.2f' %y, ha='center',va='bottom')"
   ]
  },
  {
   "cell_type": "markdown",
   "metadata": {},
   "source": [
    "#### Random forest model\n",
    "Build the random forest model by the selected features and tune hyperparameter \"max_depth\""
   ]
  },
  {
   "cell_type": "code",
   "execution_count": 12,
   "metadata": {},
   "outputs": [
    {
     "name": "stdout",
     "output_type": "stream",
     "text": [
      "max_depth: 1,accuracy:0.808824\n",
      "max_depth: 2,accuracy:0.823529\n",
      "max_depth: 3,accuracy:0.838235\n",
      "max_depth: 4,accuracy:0.867647\n",
      "max_depth: 5,accuracy:0.867647\n",
      "max_depth: 6,accuracy:0.867647\n",
      "max_depth: 7,accuracy:0.823529\n",
      "max_depth: 8,accuracy:0.838235\n",
      "max_depth: 9,accuracy:0.838235\n",
      "max_depth:10,accuracy:0.823529\n",
      "max_depth:11,accuracy:0.838235\n",
      "max_depth:12,accuracy:0.838235\n",
      "max_depth:13,accuracy:0.838235\n",
      "max_depth:14,accuracy:0.838235\n",
      "max_depth:15,accuracy:0.838235\n",
      "Best: max_depth: 4,accuracy:0.867647\n"
     ]
    }
   ],
   "source": [
    "from sklearn.ensemble import RandomForestClassifier\n",
    "\n",
    "max_depth=[1,2,3,4,5,6,7,8,9,10,11,12,13,14,15]\n",
    "acc_rf=[]\n",
    "max_acc=0\n",
    "max_dept=0\n",
    "for md in range(len(max_depth)):\n",
    "    forest_model=RandomForestClassifier(random_state=87,n_estimators=100,max_depth=max_depth[md])\n",
    "\n",
    "    forest_model.fit(X_train_val,y_train_val)\n",
    "    accuracy=forest_model.score(X_val,y_val)\n",
    "    acc_rf.append(accuracy)\n",
    "    print(\"max_depth:%2d,accuracy:%f\"%(max_depth[md],accuracy))\n",
    "    if max_acc<accuracy:\n",
    "        max_acc=accuracy\n",
    "        max_dept=max_depth[md]\n",
    "\n",
    "print(\"Best: max_depth:%2d,accuracy:%f\"%(max_dept,max_acc))\n"
   ]
  },
  {
   "cell_type": "code",
   "execution_count": 13,
   "metadata": {},
   "outputs": [
    {
     "data": {
      "image/png": "[encoded data removed]",
      "text/plain": [
       "<Figure size 576x288 with 1 Axes>"
      ]
     },
     "metadata": {
      "needs_background": "light"
     },
     "output_type": "display_data"
    }
   ],
   "source": [
    "import matplotlib.pyplot as plt\n",
    "\n",
    "plt.figure(figsize=(8, 4))\n",
    "plt.plot(max_depth,acc_rf,color='darkorange')\n",
    "plt.xlabel(\"max_depth\")\n",
    "plt.ylabel(\"accuracy\")\n",
    "plt.title(\"Random Forest depth\")\n",
    "for x,y in zip(max_depth, \n",
    "               acc_rf):\n",
    "        plt.text(x,y,'%.2f' %y, ha='center',va='bottom')"
   ]
  },
  {
   "cell_type": "markdown",
   "metadata": {},
   "source": [
    "#### Gradient Boosting Decision Tree (GBDT) model\n",
    "Build the GBDT model by the selected features and tune hyperparameter \"max_depth\""
   ]
  },
  {
   "cell_type": "code",
   "execution_count": 14,
   "metadata": {},
   "outputs": [
    {
     "name": "stdout",
     "output_type": "stream",
     "text": [
      "max_depth: 1,accuracy:0.867647\n",
      "max_depth: 2,accuracy:0.867647\n",
      "max_depth: 3,accuracy:0.838235\n",
      "max_depth: 4,accuracy:0.823529\n",
      "max_depth: 5,accuracy:0.808824\n",
      "max_depth: 6,accuracy:0.779412\n",
      "max_depth: 7,accuracy:0.808824\n",
      "max_depth: 8,accuracy:0.794118\n",
      "max_depth: 9,accuracy:0.794118\n",
      "max_depth:10,accuracy:0.779412\n",
      "max_depth:11,accuracy:0.779412\n",
      "max_depth:12,accuracy:0.794118\n",
      "max_depth:13,accuracy:0.764706\n",
      "max_depth:14,accuracy:0.779412\n",
      "max_depth:15,accuracy:0.794118\n",
      "Best: max_depth: 1,accuracy:0.867647\n"
     ]
    }
   ],
   "source": [
    "from sklearn.ensemble import GradientBoostingClassifier\n",
    "max_depth=[1,2,3,4,5,6,7,8,9,10,11,12,13,14,15]\n",
    "acc_gb=[]\n",
    "max_acc=0\n",
    "max_dept=0\n",
    "for md in range(len(max_depth)):\n",
    "    gb_model=GradientBoostingClassifier(n_estimators=100,max_depth=max_depth[md])\n",
    "\n",
    "    gb_model.fit(X_train_val,y_train_val)\n",
    "    accuracy=gb_model.score(X_val,y_val)\n",
    "    acc_gb.append(accuracy)\n",
    "    print(\"max_depth:%2d,accuracy:%f\"%(max_depth[md],accuracy))\n",
    "    if max_acc<accuracy:\n",
    "        max_acc=accuracy\n",
    "        max_dept=max_depth[md]\n",
    "print(\"Best: max_depth:%2d,accuracy:%f\"%(max_dept,max_acc))"
   ]
  },
  {
   "cell_type": "code",
   "execution_count": 15,
   "metadata": {},
   "outputs": [
    {
     "data": {
      "image/png": "[encoded data removed]",
      "text/plain": [
       "<Figure size 576x288 with 1 Axes>"
      ]
     },
     "metadata": {
      "needs_background": "light"
     },
     "output_type": "display_data"
    }
   ],
   "source": [
    "import matplotlib.pyplot as plt\n",
    "\n",
    "plt.figure(figsize=(8, 4))\n",
    "plt.plot(max_depth,acc_gb,color='darkorange')\n",
    "plt.xlabel(\"max_depth\")\n",
    "plt.ylabel(\"accuracy\")\n",
    "plt.title(\"Gradient Boosting depth\")\n",
    "for x,y in zip(max_depth, \n",
    "               acc_gb):\n",
    "        plt.text(x,y,'%.2f' %y, ha='center',va='bottom')"
   ]
  },
  {
   "cell_type": "markdown",
   "metadata": {},
   "source": [
    "#### Comparison between different models\n",
    "indicators: accuracy, precision, recall, f1, accuracy"
   ]
  },
  {
   "cell_type": "code",
   "execution_count": 16,
   "metadata": {},
   "outputs": [],
   "source": [
    "X_all_selected=X[['MRT_count_1000','mall_distance1000','school_distance1000','spot_distance_2000','人口密度','租金']]\n",
    "y=data[\"選址成功\"]"
   ]
  },
  {
   "cell_type": "code",
   "execution_count": 17,
   "metadata": {},
   "outputs": [
    {
     "name": "stdout",
     "output_type": "stream",
     "text": [
      "[0.81395349 0.88372093 0.76744186 0.6744186  0.66666667 0.76190476\n",
      " 0.73809524 0.76190476 0.92857143 0.78571429]\n",
      "accuracy mean: 0.7782392026578073\n",
      "precision mean: 0.7529454064454064\n",
      "recall mean: 0.8588744588744589\n",
      "f1 mean: 0.798076641432661\n",
      "auc mean: 0.8288984230055657\n"
     ]
    }
   ],
   "source": [
    "tree_model=DecisionTreeClassifier(random_state=87,max_depth = 3)\n",
    "accuracy_dt=cross_val_score(tree_model,X_all_selected,y,scoring='accuracy',cv=10)\n",
    "precision_dt=cross_val_score(tree_model,X_all_selected,y,scoring='precision',cv=10)\n",
    "recall_dt=cross_val_score(tree_model,X_all_selected,y,scoring='recall',cv=10)\n",
    "f1_dt=cross_val_score(tree_model,X_all_selected,y,scoring='f1',cv=10)\n",
    "auc_dt=cross_val_score(tree_model,X_all_selected,y,scoring='roc_auc',cv=10)\n",
    "print(accuracy_dt)\n",
    "print(\"accuracy mean:\",accuracy_dt.mean())\n",
    "print(\"precision mean:\",precision_dt.mean())\n",
    "print(\"recall mean:\",recall_dt.mean())\n",
    "print(\"f1 mean:\",f1_dt.mean())\n",
    "print(\"auc mean:\",auc_dt.mean())"
   ]
  },
  {
   "cell_type": "code",
   "execution_count": 18,
   "metadata": {},
   "outputs": [
    {
     "name": "stdout",
     "output_type": "stream",
     "text": [
      "[0.81395349 0.86046512 0.81395349 0.6744186  0.80952381 0.78571429\n",
      " 0.78571429 0.85714286 0.92857143 0.83333333]\n",
      "accuracy mean: 0.8162790697674419\n",
      "precision mean: 0.7849691789691791\n",
      "recall mean: 0.8952380952380953\n",
      "f1 mean: 0.8340133143364279\n",
      "auc mean: 0.8826479076479077\n"
     ]
    }
   ],
   "source": [
    "forest_model=RandomForestClassifier(random_state=87,max_depth = 4)\n",
    "accuracy_rf=cross_val_score(forest_model,X_all_selected,y,scoring='accuracy',cv=10)\n",
    "precision_rf=cross_val_score(forest_model,X_all_selected,y,scoring='precision',cv=10)\n",
    "recall_rf=cross_val_score(forest_model,X_all_selected,y,scoring='recall',cv=10)\n",
    "f1_rf=cross_val_score(forest_model,X_all_selected,y,scoring='f1',cv=10)\n",
    "auc_rf=cross_val_score(forest_model,X_all_selected,y,scoring='roc_auc',cv=10)\n",
    "print(accuracy_rf)\n",
    "print(\"accuracy mean:\",accuracy_rf.mean())\n",
    "print(\"precision mean:\",precision_rf.mean())\n",
    "print(\"recall mean:\",recall_rf.mean())\n",
    "print(\"f1 mean:\",f1_rf.mean())\n",
    "print(\"auc mean:\",auc_rf.mean())"
   ]
  },
  {
   "cell_type": "code",
   "execution_count": 19,
   "metadata": {},
   "outputs": [
    {
     "name": "stdout",
     "output_type": "stream",
     "text": [
      "[0.76744186 0.86046512 0.76744186 0.6744186  0.71428571 0.78571429\n",
      " 0.76190476 0.78571429 0.92857143 0.76190476]\n",
      "accuracy mean: 0.7807862679955704\n",
      "precision mean: 0.7634649385702017\n",
      "recall mean: 0.8448051948051948\n",
      "f1 mean: 0.7987909407542322\n",
      "auc mean: 0.8476806328592043\n"
     ]
    }
   ],
   "source": [
    "gb_model=GradientBoostingClassifier(random_state=87,max_depth = 1)\n",
    "accuracy_gb=cross_val_score(gb_model,X_all_selected,y,scoring='accuracy',cv=10)\n",
    "precision_gb=cross_val_score(gb_model,X_all_selected,y,scoring='precision',cv=10)\n",
    "recall_gb=cross_val_score(gb_model,X_all_selected,y,scoring='recall',cv=10)\n",
    "f1_gb=cross_val_score(gb_model,X_all_selected,y,scoring='f1',cv=10)\n",
    "auc_gb=cross_val_score(gb_model,X_all_selected,y,scoring='roc_auc',cv=10)\n",
    "print(accuracy_gb)\n",
    "print(\"accuracy mean:\",accuracy_gb.mean())\n",
    "print(\"precision mean:\",precision_gb.mean())\n",
    "print(\"recall mean:\",recall_gb.mean())\n",
    "print(\"f1 mean:\",f1_gb.mean())\n",
    "print(\"auc mean:\",auc_gb.mean())"
   ]
  },
  {
   "cell_type": "code",
   "execution_count": 20,
   "metadata": {},
   "outputs": [
    {
     "name": "stdout",
     "output_type": "stream",
     "text": [
      "[0.76744186 0.88372093 0.79069767 0.69767442 0.69047619 0.76190476\n",
      " 0.78571429 0.78571429 0.83333333 0.88095238]\n",
      "accuracy mean: 0.7877630121816168\n",
      "precision mean: 0.8051418408442836\n",
      "recall mean: 0.7984848484848485\n",
      "f1 mean: 0.7962190572180146\n",
      "auc mean: 0.8396701710987425\n"
     ]
    }
   ],
   "source": [
    "from sklearn import preprocessing, linear_model\n",
    "\n",
    "lr_model = linear_model.LogisticRegression(random_state=87,max_iter=10000)\n",
    "accuracy_lr=cross_val_score(lr_model,X_all_selected,y,scoring='accuracy',cv=10)\n",
    "precision_lr=cross_val_score(lr_model,X_all_selected,y,scoring='precision',cv=10)\n",
    "recall_lr=cross_val_score(lr_model,X_all_selected,y,scoring='recall',cv=10)\n",
    "f1_lr=cross_val_score(lr_model,X_all_selected,y,scoring='f1',cv=10)\n",
    "auc_lr=cross_val_score(lr_model,X_all_selected,y,scoring='roc_auc',cv=10)\n",
    "print(accuracy_lr)\n",
    "print(\"accuracy mean:\",accuracy_lr.mean())\n",
    "print(\"precision mean:\",precision_lr.mean())\n",
    "print(\"recall mean:\",recall_lr.mean())\n",
    "print(\"f1 mean:\",f1_lr.mean())\n",
    "print(\"auc mean:\",auc_lr.mean())"
   ]
  },
  {
   "cell_type": "code",
   "execution_count": 21,
   "metadata": {},
   "outputs": [
    {
     "data": {
      "image/png": "[encoded data removed]",
      "text/plain": [
       "<Figure size 576x288 with 1 Axes>"
      ]
     },
     "metadata": {
      "needs_background": "light"
     },
     "output_type": "display_data"
    }
   ],
   "source": [
    "plt.figure(figsize=(8, 4))\n",
    "plt.bar([\"Decision Tree\",\"Random Forest\",\"Gradient Boosting\",\"Logistic Regression\"],\n",
    "        [accuracy_dt.mean(),accuracy_rf.mean(),accuracy_gb.mean(),accuracy_lr.mean()], \n",
    "        width=0.5, \n",
    "        bottom=None, \n",
    "        align='center', \n",
    "        color=['darkorange','tan','goldenrod','darkgoldenrod'])\n",
    "for xx,yy in zip([\"Decision Tree\",\"Random Forest\",\"Gradient Boosting\",\"Logistic Regression\"], \n",
    "               [accuracy_dt.mean(),accuracy_rf.mean(),accuracy_gb.mean(),accuracy_lr.mean()]):\n",
    "        plt.text(xx,yy,'%2f' %yy, ha='center',va='bottom')\n",
    "plt.ylim(0.7,1)\n",
    "plt.title(\"mean accuracy\")\n",
    "plt.show()"
   ]
  },
  {
   "cell_type": "code",
   "execution_count": 22,
   "metadata": {},
   "outputs": [
    {
     "data": {
      "image/png": "[encoded data removed]",
      "text/plain": [
       "<Figure size 576x288 with 1 Axes>"
      ]
     },
     "metadata": {
      "needs_background": "light"
     },
     "output_type": "display_data"
    }
   ],
   "source": [
    "plt.figure(figsize=(8, 4))\n",
    "plt.bar([\"Decision Tree\",\"Random Forest\",\"Gradient Boosting\",\"Logistic Regression\"],\n",
    "        [precision_dt.mean(),precision_rf.mean(),precision_gb.mean(),precision_lr.mean()], \n",
    "        width=0.5, \n",
    "        bottom=None, \n",
    "        align='center', \n",
    "        color=['darkorange','tan','goldenrod', 'darkgoldenrod' ])\n",
    "for xx,yy in zip([\"Decision Tree\",\"Random Forest\",\"Gradient Boosting\",\"Logistic Regression\"], \n",
    "               [precision_dt.mean(),precision_rf.mean(),precision_gb.mean(),precision_lr.mean()]):\n",
    "        plt.text(xx,yy,'%2f' %yy, ha='center',va='bottom')\n",
    "plt.ylim(0.7,1)\n",
    "# plt.xticks(rotation='vertical')\n",
    "plt.title(\"mean precision\")\n",
    "plt.show()"
   ]
  },
  {
   "cell_type": "code",
   "execution_count": 23,
   "metadata": {},
   "outputs": [
    {
     "data": {
      "image/png": "[encoded data removed]",
      "text/plain": [
       "<Figure size 576x288 with 1 Axes>"
      ]
     },
     "metadata": {
      "needs_background": "light"
     },
     "output_type": "display_data"
    }
   ],
   "source": [
    "plt.figure(figsize=(8, 4))\n",
    "plt.bar([\"Decision Tree\",\"Random Forest\",\"Gradient Boosting\",\"Logistic Regression\"],\n",
    "        [recall_dt.mean(),recall_rf.mean(),recall_gb.mean(),recall_lr.mean()], \n",
    "        width=0.5, \n",
    "        bottom=None, \n",
    "        align='center', \n",
    "        color=['darkorange', 'tan','goldenrod', 'darkgoldenrod' ])\n",
    "for xx,yy in zip([\"Decision Tree\",\"Random Forest\",\"Gradient Boosting\",\"Logistic Regression\"], \n",
    "               [recall_dt.mean(),recall_rf.mean(),recall_gb.mean(),recall_lr.mean()]):\n",
    "        plt.text(xx,yy,'%2f' %yy, ha='center',va='bottom')\n",
    "plt.ylim(0.7,1)\n",
    "# plt.xticks(rotation='vertical')\n",
    "plt.title(\"mean recall\")\n",
    "plt.show()"
   ]
  },
  {
   "cell_type": "code",
   "execution_count": 24,
   "metadata": {},
   "outputs": [
    {
     "data": {
      "image/png": "[encoded data removed]",
      "text/plain": [
       "<Figure size 576x288 with 1 Axes>"
      ]
     },
     "metadata": {
      "needs_background": "light"
     },
     "output_type": "display_data"
    }
   ],
   "source": [
    "plt.figure(figsize=(8, 4))\n",
    "plt.bar([\"Decision Tree\",\"Random Forest\",\"Gradient Boosting\",\"Logistic Regression\"],\n",
    "        [f1_dt.mean(),f1_rf.mean(),f1_gb.mean(),f1_lr.mean()], \n",
    "        width=0.5, \n",
    "        bottom=None, \n",
    "        align='center', \n",
    "        color=['darkorange','tan','goldenrod', 'darkgoldenrod'])\n",
    "for xx,yy in zip([\"Decision Tree\",\"Random Forest\",\"Gradient Boosting\",\"Logistic Regression\"], \n",
    "               [f1_dt.mean(),f1_rf.mean(),f1_gb.mean(),f1_lr.mean()]):\n",
    "        plt.text(xx,yy,'%2f' %yy, ha='center',va='bottom')\n",
    "plt.ylim(0.7,1)\n",
    "# plt.xticks(rotation='vertical')\n",
    "plt.title(\"mean f1-score\")\n",
    "plt.show()"
   ]
  },
  {
   "cell_type": "code",
   "execution_count": 25,
   "metadata": {
    "scrolled": true
   },
   "outputs": [
    {
     "data": {
      "image/png": "[encoded data removed]",
      "text/plain": [
       "<Figure size 576x288 with 1 Axes>"
      ]
     },
     "metadata": {
      "needs_background": "light"
     },
     "output_type": "display_data"
    }
   ],
   "source": [
    "plt.figure(figsize=(8, 4))\n",
    "plt.bar([\"Decision Tree\",\"Random Forest\",\"Gradient Boosting\",\"Logistic Regression\"],\n",
    "        [auc_dt.mean(),auc_rf.mean(),auc_gb.mean(),auc_lr.mean()], \n",
    "        width=0.5, \n",
    "        bottom=None, \n",
    "        align='center', \n",
    "        color=['darkorange','tan','goldenrod', 'darkgoldenrod'])\n",
    "for xx,yy in zip([\"Decision Tree\",\"Random Forest\",\"Gradient Boosting\",\"Logistic Regression\"], \n",
    "               [auc_dt.mean(),auc_rf.mean(),auc_gb.mean(),auc_lr.mean()]):\n",
    "        plt.text(xx,yy,'%2f' %yy, ha='center',va='bottom')\n",
    "plt.ylim(0.7,1)\n",
    "# plt.xticks(rotation='vertical')\n",
    "plt.title(\"mean roc_auc\")\n",
    "plt.show()"
   ]
  },
  {
   "cell_type": "markdown",
   "metadata": {},
   "source": [
    "#### Other analysis"
   ]
  },
  {
   "cell_type": "markdown",
   "metadata": {},
   "source": [
    "##### p-values and coefficient of selected features in logistic model which was built only by selected features"
   ]
  },
  {
   "cell_type": "code",
   "execution_count": 26,
   "metadata": {},
   "outputs": [
    {
     "name": "stdout",
     "output_type": "stream",
     "text": [
      "MRT_count_1000 0.1480282470939982\n",
      "mall_distance1000 0.25779036588564297\n",
      "school_distance1000 0.3401113238099719\n",
      "spot_distance_2000 -0.027183284991894943\n",
      "人口密度 9.62725411065733e-06\n",
      "租金 -0.0011738695618443656\n"
     ]
    }
   ],
   "source": [
    "lr_model = linear_model.LogisticRegression(random_state=87,max_iter=10000)\n",
    "lr_model.fit(X_all_selected,y)\n",
    "\n",
    "for i in range(6):\n",
    "    print(X_all_selected.columns[i],lr_model.coef_[0][i])"
   ]
  },
  {
   "cell_type": "markdown",
   "metadata": {},
   "source": [
    "##### Visualize the Decision Tree \n",
    "We find that the most important factor in decision tree model is \"school_distance1000\" (the number of school within 1000 meters). Popultaion density is the second most important factor. "
   ]
  },
  {
   "cell_type": "code",
   "execution_count": 27,
   "metadata": {},
   "outputs": [
    {
     "data": {
      "image/png": "[encoded data removed]",
      "text/plain": [
       "<Figure size 1152x864 with 1 Axes>"
      ]
     },
     "metadata": {
      "needs_background": "light"
     },
     "output_type": "display_data"
    }
   ],
   "source": [
    "from sklearn import tree\n",
    "X=data[['MRT_count_1000','mall_distance1000','school_distance1000','spot_distance_2000','人口密度','租金']]\n",
    "y=data[\"選址成功\"]\n",
    "tree_model=DecisionTreeClassifier(random_state=87,max_depth=3)\n",
    "tree_model.fit(X,y)\n",
    "plt.figure(figsize=(16,12))\n",
    "tree.plot_tree(tree_model,feature_names=['MRT_count_1000','mall_distance1000','school_distance1000','spot_distance_2000','population density','rent'],\n",
    "              class_names=[\"failure\",\"success\"],fontsize=12)  \n",
    "\n",
    "# plt.show()\n",
    "plt.savefig('tree.png',transparent = False)"
   ]
  },
  {
   "cell_type": "markdown",
   "metadata": {},
   "source": [
    "### Conclusion\n",
    "1. We find that \"the number of school within 1000 meters\", \"population density\", \"the number of important spot within 2000 meters\", \"the number of mall within 2000 meters\" and \"rental cost\" may be the key factors of the location selecition of beverage stores. \n",
    "2. According to the comparison table below, we find that random forest model with max-depth=4 is the best model, which outperform other models by every indicator.  "
   ]
  },
  {
   "cell_type": "markdown",
   "metadata": {},
   "source": [
    "| model / indicator    \t| accuracy \t| precision \t| recall \t| f1-score \t| roc_auc \t|\n",
    "|----------------------\t|----------\t|-----------\t|--------\t|----------\t|---------\t|\n",
    "| Decision Tree        \t| 0.778    \t| 0.753     \t| 0.859  \t| 0.798    \t| 0.829   \t|\n",
    "| Random Forest        \t| 0.816    \t| 0.785     \t| 0.895  \t| 0.834    \t| 0.882   \t|\n",
    "| Gradient Boosting    \t| 0.781    \t| 0.763     \t| 0.845  \t| 0.799    \t| 0.848   \t|\n",
    "| Logistic Regresision \t| 0.781    \t| 0.763     \t| 0.845  \t| 0.799    \t| 0.848   \t|"
   ]
  }
 ],
 "metadata": {
  "kernelspec": {
   "display_name": "Python 3 (ipykernel)",
   "language": "python",
   "name": "python3"
  },
  "language_info": {
   "codemirror_mode": {
    "name": "ipython",
    "version": 3
   },
   "file_extension": ".py",
   "mimetype": "text/x-python",
   "name": "python",
   "nbconvert_exporter": "python",
   "pygments_lexer": "ipython3",
   "version": "3.9.7"
  }
 },
 "nbformat": 4,
 "nbformat_minor": 4
}

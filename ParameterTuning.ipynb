{
 "cells": [
  {
   "cell_type": "code",
   "execution_count": 1,
   "metadata": {},
   "outputs": [],
   "source": [
    "import pandas as pd\n",
    "import numpy as np\n",
    "import statsmodels.api as sm\n",
    "from sklearn import preprocessing, linear_model\n",
    "from sklearn.tree import DecisionTreeRegressor\n",
    "from sklearn.tree import DecisionTreeClassifier\n",
    "from sklearn.model_selection import cross_val_score\n",
    "from sklearn.model_selection import cross_val_predict\n",
    "from sklearn.metrics import confusion_matrix,accuracy_score\n",
    "from sklearn.utils import shuffle\n",
    "from sklearn.ensemble import RandomForestClassifier\n",
    "from sklearn.ensemble import GradientBoostingClassifier\n",
    "from sklearn.model_selection import train_test_split\n",
    "from sklearn import tree\n",
    "import matplotlib.pyplot as plt\n",
    "import warnings\n",
    "warnings.filterwarnings(\"ignore\")"
   ]
  },
  {
   "cell_type": "markdown",
   "metadata": {},
   "source": [
    "### Preprocessing"
   ]
  },
  {
   "cell_type": "code",
   "execution_count": 2,
   "metadata": {},
   "outputs": [
    {
     "data": {
      "text/html": [
       "<div>\n",
       "<style scoped>\n",
       "    .dataframe tbody tr th:only-of-type {\n",
       "        vertical-align: middle;\n",
       "    }\n",
       "\n",
       "    .dataframe tbody tr th {\n",
       "        vertical-align: top;\n",
       "    }\n",
       "\n",
       "    .dataframe thead th {\n",
       "        text-align: right;\n",
       "    }\n",
       "</style>\n",
       "<table border=\"1\" class=\"dataframe\">\n",
       "  <thead>\n",
       "    <tr style=\"text-align: right;\">\n",
       "      <th></th>\n",
       "      <th>name</th>\n",
       "      <th>MRT_min_distance</th>\n",
       "      <th>MRT_count_500</th>\n",
       "      <th>MRT_count_1000</th>\n",
       "      <th>mall_distance500</th>\n",
       "      <th>mall_distance1000</th>\n",
       "      <th>school_distance500</th>\n",
       "      <th>school_distance1000</th>\n",
       "      <th>school_distance1500</th>\n",
       "      <th>spot_distance_1000</th>\n",
       "      <th>...</th>\n",
       "      <th>高中職</th>\n",
       "      <th>國中</th>\n",
       "      <th>國小</th>\n",
       "      <th>自修</th>\n",
       "      <th>不識字</th>\n",
       "      <th>所得中位數</th>\n",
       "      <th>購買力指數</th>\n",
       "      <th>零售飽和指數</th>\n",
       "      <th>租金</th>\n",
       "      <th>選址成功</th>\n",
       "    </tr>\n",
       "  </thead>\n",
       "  <tbody>\n",
       "    <tr>\n",
       "      <th>0</th>\n",
       "      <td>迷客夏農安店</td>\n",
       "      <td>0.7</td>\n",
       "      <td>0</td>\n",
       "      <td>4</td>\n",
       "      <td>0</td>\n",
       "      <td>0</td>\n",
       "      <td>3</td>\n",
       "      <td>10</td>\n",
       "      <td>14</td>\n",
       "      <td>3</td>\n",
       "      <td>...</td>\n",
       "      <td>0.247804</td>\n",
       "      <td>0.067583</td>\n",
       "      <td>0.063528</td>\n",
       "      <td>0.002478</td>\n",
       "      <td>0.002478</td>\n",
       "      <td>723</td>\n",
       "      <td>0.091203</td>\n",
       "      <td>4.504460e+08</td>\n",
       "      <td>446.000000</td>\n",
       "      <td>1</td>\n",
       "    </tr>\n",
       "    <tr>\n",
       "      <th>1</th>\n",
       "      <td>迷客夏遼寧店</td>\n",
       "      <td>0.6</td>\n",
       "      <td>0</td>\n",
       "      <td>5</td>\n",
       "      <td>1</td>\n",
       "      <td>7</td>\n",
       "      <td>1</td>\n",
       "      <td>3</td>\n",
       "      <td>5</td>\n",
       "      <td>1</td>\n",
       "      <td>...</td>\n",
       "      <td>0.203498</td>\n",
       "      <td>0.061578</td>\n",
       "      <td>0.048096</td>\n",
       "      <td>0.000729</td>\n",
       "      <td>0.001822</td>\n",
       "      <td>824</td>\n",
       "      <td>0.091203</td>\n",
       "      <td>4.504460e+08</td>\n",
       "      <td>1235.333333</td>\n",
       "      <td>1</td>\n",
       "    </tr>\n",
       "    <tr>\n",
       "      <th>2</th>\n",
       "      <td>迷客夏錦洲店</td>\n",
       "      <td>0.5</td>\n",
       "      <td>2</td>\n",
       "      <td>3</td>\n",
       "      <td>0</td>\n",
       "      <td>1</td>\n",
       "      <td>0</td>\n",
       "      <td>4</td>\n",
       "      <td>4</td>\n",
       "      <td>1</td>\n",
       "      <td>...</td>\n",
       "      <td>0.213425</td>\n",
       "      <td>0.050747</td>\n",
       "      <td>0.048659</td>\n",
       "      <td>0.000964</td>\n",
       "      <td>0.001767</td>\n",
       "      <td>807</td>\n",
       "      <td>0.091203</td>\n",
       "      <td>4.504460e+08</td>\n",
       "      <td>1063.666667</td>\n",
       "      <td>1</td>\n",
       "    </tr>\n",
       "    <tr>\n",
       "      <th>3</th>\n",
       "      <td>迷客夏伊通店</td>\n",
       "      <td>0.2</td>\n",
       "      <td>1</td>\n",
       "      <td>2</td>\n",
       "      <td>0</td>\n",
       "      <td>3</td>\n",
       "      <td>2</td>\n",
       "      <td>5</td>\n",
       "      <td>6</td>\n",
       "      <td>0</td>\n",
       "      <td>...</td>\n",
       "      <td>0.216047</td>\n",
       "      <td>0.053700</td>\n",
       "      <td>0.050578</td>\n",
       "      <td>0.000000</td>\n",
       "      <td>0.000937</td>\n",
       "      <td>719</td>\n",
       "      <td>0.091203</td>\n",
       "      <td>4.504460e+08</td>\n",
       "      <td>957.666667</td>\n",
       "      <td>1</td>\n",
       "    </tr>\n",
       "    <tr>\n",
       "      <th>4</th>\n",
       "      <td>迷客夏台北車站店</td>\n",
       "      <td>1.0</td>\n",
       "      <td>0</td>\n",
       "      <td>5</td>\n",
       "      <td>5</td>\n",
       "      <td>9</td>\n",
       "      <td>0</td>\n",
       "      <td>6</td>\n",
       "      <td>8</td>\n",
       "      <td>4</td>\n",
       "      <td>...</td>\n",
       "      <td>0.218496</td>\n",
       "      <td>0.049065</td>\n",
       "      <td>0.032474</td>\n",
       "      <td>0.000706</td>\n",
       "      <td>0.002471</td>\n",
       "      <td>795</td>\n",
       "      <td>0.062155</td>\n",
       "      <td>3.600623e+08</td>\n",
       "      <td>736.000000</td>\n",
       "      <td>1</td>\n",
       "    </tr>\n",
       "    <tr>\n",
       "      <th>...</th>\n",
       "      <td>...</td>\n",
       "      <td>...</td>\n",
       "      <td>...</td>\n",
       "      <td>...</td>\n",
       "      <td>...</td>\n",
       "      <td>...</td>\n",
       "      <td>...</td>\n",
       "      <td>...</td>\n",
       "      <td>...</td>\n",
       "      <td>...</td>\n",
       "      <td>...</td>\n",
       "      <td>...</td>\n",
       "      <td>...</td>\n",
       "      <td>...</td>\n",
       "      <td>...</td>\n",
       "      <td>...</td>\n",
       "      <td>...</td>\n",
       "      <td>...</td>\n",
       "      <td>...</td>\n",
       "      <td>...</td>\n",
       "      <td>...</td>\n",
       "    </tr>\n",
       "    <tr>\n",
       "      <th>419</th>\n",
       "      <td>292台北市北投區石牌路2段343巷8弄28-2號</td>\n",
       "      <td>2.8</td>\n",
       "      <td>0</td>\n",
       "      <td>0</td>\n",
       "      <td>0</td>\n",
       "      <td>0</td>\n",
       "      <td>0</td>\n",
       "      <td>0</td>\n",
       "      <td>0</td>\n",
       "      <td>0</td>\n",
       "      <td>...</td>\n",
       "      <td>0.223782</td>\n",
       "      <td>0.054328</td>\n",
       "      <td>0.061531</td>\n",
       "      <td>0.000733</td>\n",
       "      <td>0.003540</td>\n",
       "      <td>810</td>\n",
       "      <td>0.089724</td>\n",
       "      <td>1.095532e+09</td>\n",
       "      <td>810.333333</td>\n",
       "      <td>0</td>\n",
       "    </tr>\n",
       "    <tr>\n",
       "      <th>420</th>\n",
       "      <td>293台北市信義區紫雲街72號</td>\n",
       "      <td>3.2</td>\n",
       "      <td>0</td>\n",
       "      <td>0</td>\n",
       "      <td>0</td>\n",
       "      <td>0</td>\n",
       "      <td>0</td>\n",
       "      <td>0</td>\n",
       "      <td>0</td>\n",
       "      <td>0</td>\n",
       "      <td>...</td>\n",
       "      <td>0.208367</td>\n",
       "      <td>0.058375</td>\n",
       "      <td>0.052213</td>\n",
       "      <td>0.001135</td>\n",
       "      <td>0.003405</td>\n",
       "      <td>769</td>\n",
       "      <td>0.087254</td>\n",
       "      <td>7.042802e+08</td>\n",
       "      <td>512.000000</td>\n",
       "      <td>0</td>\n",
       "    </tr>\n",
       "    <tr>\n",
       "      <th>421</th>\n",
       "      <td>298台北市萬華區長順街2號</td>\n",
       "      <td>1.2</td>\n",
       "      <td>0</td>\n",
       "      <td>0</td>\n",
       "      <td>0</td>\n",
       "      <td>0</td>\n",
       "      <td>0</td>\n",
       "      <td>2</td>\n",
       "      <td>2</td>\n",
       "      <td>0</td>\n",
       "      <td>...</td>\n",
       "      <td>0.324331</td>\n",
       "      <td>0.142100</td>\n",
       "      <td>0.143867</td>\n",
       "      <td>0.003281</td>\n",
       "      <td>0.012872</td>\n",
       "      <td>556</td>\n",
       "      <td>0.068733</td>\n",
       "      <td>1.220540e+09</td>\n",
       "      <td>283.333333</td>\n",
       "      <td>0</td>\n",
       "    </tr>\n",
       "    <tr>\n",
       "      <th>422</th>\n",
       "      <td>299台北市北投區行義路456號</td>\n",
       "      <td>3.1</td>\n",
       "      <td>0</td>\n",
       "      <td>0</td>\n",
       "      <td>0</td>\n",
       "      <td>0</td>\n",
       "      <td>1</td>\n",
       "      <td>1</td>\n",
       "      <td>1</td>\n",
       "      <td>0</td>\n",
       "      <td>...</td>\n",
       "      <td>0.223782</td>\n",
       "      <td>0.054328</td>\n",
       "      <td>0.061531</td>\n",
       "      <td>0.000733</td>\n",
       "      <td>0.003540</td>\n",
       "      <td>810</td>\n",
       "      <td>0.089724</td>\n",
       "      <td>1.095532e+09</td>\n",
       "      <td>570.666667</td>\n",
       "      <td>0</td>\n",
       "    </tr>\n",
       "    <tr>\n",
       "      <th>423</th>\n",
       "      <td>300台北市大安區新生南路3段54巷16號</td>\n",
       "      <td>0.7</td>\n",
       "      <td>0</td>\n",
       "      <td>2</td>\n",
       "      <td>0</td>\n",
       "      <td>1</td>\n",
       "      <td>0</td>\n",
       "      <td>5</td>\n",
       "      <td>8</td>\n",
       "      <td>2</td>\n",
       "      <td>...</td>\n",
       "      <td>0.165369</td>\n",
       "      <td>0.032863</td>\n",
       "      <td>0.029035</td>\n",
       "      <td>0.001980</td>\n",
       "      <td>0.001452</td>\n",
       "      <td>883</td>\n",
       "      <td>0.125343</td>\n",
       "      <td>1.003157e+09</td>\n",
       "      <td>983.333333</td>\n",
       "      <td>0</td>\n",
       "    </tr>\n",
       "  </tbody>\n",
       "</table>\n",
       "<p>424 rows × 55 columns</p>\n",
       "</div>"
      ],
      "text/plain": [
       "                          name  MRT_min_distance  MRT_count_500  \\\n",
       "0                       迷客夏農安店               0.7              0   \n",
       "1                       迷客夏遼寧店               0.6              0   \n",
       "2                       迷客夏錦洲店               0.5              2   \n",
       "3                       迷客夏伊通店               0.2              1   \n",
       "4                     迷客夏台北車站店               1.0              0   \n",
       "..                         ...               ...            ...   \n",
       "419  292台北市北投區石牌路2段343巷8弄28-2號               2.8              0   \n",
       "420            293台北市信義區紫雲街72號               3.2              0   \n",
       "421             298台北市萬華區長順街2號               1.2              0   \n",
       "422           299台北市北投區行義路456號               3.1              0   \n",
       "423      300台北市大安區新生南路3段54巷16號               0.7              0   \n",
       "\n",
       "     MRT_count_1000  mall_distance500  mall_distance1000  school_distance500  \\\n",
       "0                 4                 0                  0                   3   \n",
       "1                 5                 1                  7                   1   \n",
       "2                 3                 0                  1                   0   \n",
       "3                 2                 0                  3                   2   \n",
       "4                 5                 5                  9                   0   \n",
       "..              ...               ...                ...                 ...   \n",
       "419               0                 0                  0                   0   \n",
       "420               0                 0                  0                   0   \n",
       "421               0                 0                  0                   0   \n",
       "422               0                 0                  0                   1   \n",
       "423               2                 0                  1                   0   \n",
       "\n",
       "     school_distance1000  school_distance1500  spot_distance_1000  ...  \\\n",
       "0                     10                   14                   3  ...   \n",
       "1                      3                    5                   1  ...   \n",
       "2                      4                    4                   1  ...   \n",
       "3                      5                    6                   0  ...   \n",
       "4                      6                    8                   4  ...   \n",
       "..                   ...                  ...                 ...  ...   \n",
       "419                    0                    0                   0  ...   \n",
       "420                    0                    0                   0  ...   \n",
       "421                    2                    2                   0  ...   \n",
       "422                    1                    1                   0  ...   \n",
       "423                    5                    8                   2  ...   \n",
       "\n",
       "          高中職        國中        國小        自修       不識字  所得中位數     購買力指數  \\\n",
       "0    0.247804  0.067583  0.063528  0.002478  0.002478    723  0.091203   \n",
       "1    0.203498  0.061578  0.048096  0.000729  0.001822    824  0.091203   \n",
       "2    0.213425  0.050747  0.048659  0.000964  0.001767    807  0.091203   \n",
       "3    0.216047  0.053700  0.050578  0.000000  0.000937    719  0.091203   \n",
       "4    0.218496  0.049065  0.032474  0.000706  0.002471    795  0.062155   \n",
       "..        ...       ...       ...       ...       ...    ...       ...   \n",
       "419  0.223782  0.054328  0.061531  0.000733  0.003540    810  0.089724   \n",
       "420  0.208367  0.058375  0.052213  0.001135  0.003405    769  0.087254   \n",
       "421  0.324331  0.142100  0.143867  0.003281  0.012872    556  0.068733   \n",
       "422  0.223782  0.054328  0.061531  0.000733  0.003540    810  0.089724   \n",
       "423  0.165369  0.032863  0.029035  0.001980  0.001452    883  0.125343   \n",
       "\n",
       "           零售飽和指數           租金  選址成功  \n",
       "0    4.504460e+08   446.000000     1  \n",
       "1    4.504460e+08  1235.333333     1  \n",
       "2    4.504460e+08  1063.666667     1  \n",
       "3    4.504460e+08   957.666667     1  \n",
       "4    3.600623e+08   736.000000     1  \n",
       "..            ...          ...   ...  \n",
       "419  1.095532e+09   810.333333     0  \n",
       "420  7.042802e+08   512.000000     0  \n",
       "421  1.220540e+09   283.333333     0  \n",
       "422  1.095532e+09   570.666667     0  \n",
       "423  1.003157e+09   983.333333     0  \n",
       "\n",
       "[424 rows x 55 columns]"
      ]
     },
     "execution_count": 2,
     "metadata": {},
     "output_type": "execute_result"
    }
   ],
   "source": [
    "data=pd.read_csv(\"all_merge_euclidean.csv\",encoding='Big5')\n",
    "data"
   ]
  },
  {
   "cell_type": "code",
   "execution_count": 3,
   "metadata": {},
   "outputs": [],
   "source": [
    "X=data.drop([\"name\",\"選址成功\"],axis=1)\n",
    "y=data[\"選址成功\"]\n",
    "X_train, X_test, y_train, y_test = train_test_split(X, y, test_size=0.2, random_state=87)"
   ]
  },
  {
   "cell_type": "markdown",
   "metadata": {},
   "source": [
    "### Feature Selection (By P-Value)"
   ]
  },
  {
   "cell_type": "code",
   "execution_count": 4,
   "metadata": {},
   "outputs": [
    {
     "data": {
      "text/plain": [
       "[['MRT_min_distance', 4.496378442217437e-10],\n",
       " ['MRT_count_500', 1.584051899989284e-09],\n",
       " ['MRT_count_1000', 1.1843027946142763e-08],\n",
       " ['mall_distance500', 3.229166690945335e-05],\n",
       " ['mall_distance1000', 4.810732000770161e-07],\n",
       " ['school_distance500', 1.4475905309850137e-07],\n",
       " ['school_distance1000', 3.5298529704442286e-10],\n",
       " ['school_distance1500', 2.546279437594702e-10],\n",
       " ['spot_distance_1000', 4.63350038723683e-08],\n",
       " ['spot_distance_2000', 5.434013299839689e-07],\n",
       " ['spot_distance_3000', 1.3041431701056837e-08],\n",
       " ['spot_distance_4000', 1.0682171556092835e-07],\n",
       " ['spot_distance_5000', 1.0047880018277914e-06],\n",
       " ['人口數-合計', 0.7213221199736585],\n",
       " ['男性比例', 0.6504372611038929],\n",
       " ['女性比例', 0.4840063375454635],\n",
       " ['人口密度', 1.097853221442634e-08],\n",
       " ['平均年齡', 0.5156115571126519],\n",
       " ['20~59歲人數', 0.8639173950959814],\n",
       " ['20~59歲比例', 0.6788827145227155],\n",
       " ['合計_0~4歲', 0.6835586793000521],\n",
       " ['合計_5~9歲', 0.4372894031245952],\n",
       " ['合計_10~14歲', 0.28673627282468883],\n",
       " ['合計_15~19歲', 0.774681787978561],\n",
       " ['合計_20~24歲', 0.8923937179680161],\n",
       " ['合計_25~29歲', 0.9950221281988911],\n",
       " ['合計_30~34歲', 0.6700810040840883],\n",
       " ['合計_35~39歲', 0.42458104958721365],\n",
       " ['合計_40~44歲', 0.40561897990233986],\n",
       " ['合計_45~49歲', 0.6833422136459936],\n",
       " ['合計_50~54歲', 0.7163036760222219],\n",
       " ['合計_55~59歲', 0.8013288528247724],\n",
       " ['合計_60~64歲', 0.6837713289366063],\n",
       " ['合計_65~69歲', 0.29319079759367606],\n",
       " ['合計_70~74歲', 0.19037438322663336],\n",
       " ['合計_75~79歲', 0.29633950554871136],\n",
       " ['合計_80~84歲', 0.2011938218917766],\n",
       " ['合計_85~89歲', 0.31614309184803846],\n",
       " ['合計_90~94歲', 0.8175822155519402],\n",
       " ['合計_95~99歲', 0.5153237027122373],\n",
       " ['100歲以上', 0.4354211130317477],\n",
       " ['博', 0.982950327824389],\n",
       " ['碩', 0.29950786277141883],\n",
       " ['大專', 0.3825802472793779],\n",
       " ['高中職', 0.6928989380379129],\n",
       " ['國中', 0.8689166197320505],\n",
       " ['國小', 0.4888976961487652],\n",
       " ['自修', 0.4796207566542201],\n",
       " ['不識字', 0.25509159524841074],\n",
       " ['所得中位數', 0.6573677660492818],\n",
       " ['購買力指數', 0.9209172506707931],\n",
       " ['零售飽和指數', 0.44167677767584734],\n",
       " ['租金', 0.0003492040977197904]]"
      ]
     },
     "execution_count": 4,
     "metadata": {},
     "output_type": "execute_result"
    }
   ],
   "source": [
    "data_feature_select=X\n",
    "col = []\n",
    "for i in range(len(data_feature_select.columns)):\n",
    "    log_reg = sm.Logit(y, data_feature_select[data_feature_select.columns[i]],disp=False).fit(disp=0)\n",
    "    col.append([data_feature_select.columns[i],float(log_reg.pvalues)]) \n",
    "col"
   ]
  },
  {
   "cell_type": "code",
   "execution_count": 5,
   "metadata": {},
   "outputs": [],
   "source": [
    "X_train_selected=X_train[['MRT_min_distance','mall_distance1000','school_distance1500','spot_distance_3000','人口密度','租金']]\n",
    "X_test_selected=X_test[['MRT_min_distance','mall_distance1000','school_distance1500','spot_distance_3000','人口密度','租金']]"
   ]
  },
  {
   "cell_type": "markdown",
   "metadata": {},
   "source": [
    "### Depth Tuning"
   ]
  },
  {
   "cell_type": "markdown",
   "metadata": {},
   "source": [
    "#### DecisionTree Model"
   ]
  },
  {
   "cell_type": "code",
   "execution_count": 6,
   "metadata": {},
   "outputs": [
    {
     "name": "stdout",
     "output_type": "stream",
     "text": [
      "[0.8, 0.8, 0.8117647058823529, 0.7647058823529411, 0.8, 0.7647058823529411, 0.7176470588235294, 0.7647058823529411, 0.7647058823529411, 0.7647058823529411, 0.7647058823529411, 0.7764705882352941, 0.7529411764705882, 0.7647058823529411]\n",
      "Best Accuracy: 0.8117647058823529 Depth: 3\n"
     ]
    }
   ],
   "source": [
    "acc=[]\n",
    "depth=[]\n",
    "for i in range(1,15):\n",
    "    tree_model=DecisionTreeClassifier(random_state=123,max_depth=i)\n",
    "    tree_model.fit(X_train_selected,y_train)\n",
    "    acc.append(tree_model.score(X_test_selected,y_test))\n",
    "    depth.append(i)\n",
    "\n",
    "print(acc)\n",
    "print(\"Best Accuracy:\",max(acc),\"Depth:\",acc.index(max(acc))+1)"
   ]
  },
  {
   "cell_type": "code",
   "execution_count": 7,
   "metadata": {},
   "outputs": [
    {
     "data": {
      "image/png": "[encoded data removed]",
      "text/plain": [
       "<Figure size 576x432 with 1 Axes>"
      ]
     },
     "metadata": {
      "needs_background": "light"
     },
     "output_type": "display_data"
    }
   ],
   "source": [
    "plt.figure(figsize=(8,6))\n",
    "\n",
    "plt.plot(depth,acc, 'ko-')\n",
    "plt.title('Decision Tree')\n",
    "plt.xlabel('Depth')\n",
    "plt.ylabel('Accuracy')\n",
    "plt.show()"
   ]
  },
  {
   "cell_type": "code",
   "execution_count": 8,
   "metadata": {},
   "outputs": [
    {
     "data": {
      "image/png": "[encoded data removed]",
      "text/plain": [
       "<Figure size 1080x576 with 1 Axes>"
      ]
     },
     "metadata": {
      "needs_background": "light"
     },
     "output_type": "display_data"
    }
   ],
   "source": [
    "plt.figure(figsize=(15,8))\n",
    "\n",
    "tree_model=DecisionTreeClassifier(random_state=123,max_depth=3)\n",
    "tree_model.fit(X_train_selected,y_train)\n",
    "\n",
    "tree.plot_tree(tree_model,\n",
    "               feature_names=['MRT_min_distance','mall_distance1000','school_distance1500','spot_distance_3000','pop_density','rent'],\n",
    "               class_names=[\"failure\",\"success\"],\n",
    "               fontsize=10)  \n",
    "\n",
    "plt.show()"
   ]
  },
  {
   "cell_type": "markdown",
   "metadata": {},
   "source": [
    "#### RandomForest Model"
   ]
  },
  {
   "cell_type": "code",
   "execution_count": 9,
   "metadata": {},
   "outputs": [
    {
     "name": "stdout",
     "output_type": "stream",
     "text": [
      "[0.8470588235294118, 0.8470588235294118, 0.8352941176470589, 0.8352941176470589, 0.8235294117647058, 0.8235294117647058, 0.8117647058823529, 0.8235294117647058, 0.8117647058823529, 0.8352941176470589, 0.8235294117647058, 0.8117647058823529, 0.8235294117647058, 0.8117647058823529]\n",
      "Best Accuracy: 0.8470588235294118 Depth: 1\n"
     ]
    }
   ],
   "source": [
    "acc=[]\n",
    "depth=[]\n",
    "for i in range(1,15):\n",
    "    forest_model=RandomForestClassifier(random_state=123,max_depth=i)\n",
    "    forest_model.fit(X_train_selected,y_train)\n",
    "    acc.append(forest_model.score(X_test_selected,y_test))\n",
    "    depth.append(i)\n",
    "\n",
    "print(acc)\n",
    "print(\"Best Accuracy:\",max(acc),\"Depth:\",acc.index(max(acc))+1)"
   ]
  },
  {
   "cell_type": "code",
   "execution_count": 10,
   "metadata": {},
   "outputs": [
    {
     "data": {
      "image/png": "[encoded data removed]",
      "text/plain": [
       "<Figure size 576x432 with 1 Axes>"
      ]
     },
     "metadata": {
      "needs_background": "light"
     },
     "output_type": "display_data"
    }
   ],
   "source": [
    "plt.figure(figsize=(8,6))\n",
    "\n",
    "plt.plot(depth,acc, 'ko-')\n",
    "plt.title('Random Forest')\n",
    "plt.xlabel('Depth')\n",
    "plt.ylabel('Accuracy')\n",
    "plt.show()"
   ]
  },
  {
   "cell_type": "markdown",
   "metadata": {},
   "source": [
    "#### GradientBoosting Model"
   ]
  },
  {
   "cell_type": "code",
   "execution_count": 11,
   "metadata": {},
   "outputs": [
    {
     "name": "stdout",
     "output_type": "stream",
     "text": [
      "[0.8117647058823529, 0.8117647058823529, 0.788235294117647, 0.8117647058823529, 0.8235294117647058, 0.8117647058823529, 0.8, 0.8235294117647058, 0.788235294117647, 0.7411764705882353, 0.7647058823529411, 0.7411764705882353, 0.7529411764705882, 0.7764705882352941]\n",
      "Best Accuracy: 0.8235294117647058 Depth: 5\n"
     ]
    }
   ],
   "source": [
    "acc=[]\n",
    "depth=[]\n",
    "for i in range(1,15):\n",
    "    GDBT_model=GradientBoostingClassifier(random_state=123,max_depth=i)\n",
    "    GDBT_model.fit(X_train_selected,y_train)\n",
    "    acc.append(GDBT_model.score(X_test_selected,y_test))\n",
    "    depth.append(i)\n",
    "\n",
    "print(acc)\n",
    "print(\"Best Accuracy:\",max(acc),\"Depth:\",acc.index(max(acc))+1)"
   ]
  },
  {
   "cell_type": "code",
   "execution_count": 12,
   "metadata": {},
   "outputs": [
    {
     "data": {
      "image/png": "[encoded data removed]",
      "text/plain": [
       "<Figure size 576x432 with 1 Axes>"
      ]
     },
     "metadata": {
      "needs_background": "light"
     },
     "output_type": "display_data"
    }
   ],
   "source": [
    "plt.figure(figsize=(8,6))\n",
    "\n",
    "plt.plot(depth,acc, 'ko-')\n",
    "plt.title('GradientBoosting')\n",
    "plt.xlabel('Depth')\n",
    "plt.ylabel('Accuracy')\n",
    "plt.show()"
   ]
  },
  {
   "cell_type": "markdown",
   "metadata": {},
   "source": [
    "### Model Comparing"
   ]
  },
  {
   "cell_type": "code",
   "execution_count": 13,
   "metadata": {},
   "outputs": [],
   "source": [
    "X_all_selected=X[['MRT_min_distance','mall_distance1000','school_distance1500','spot_distance_3000','人口密度','租金']]\n",
    "y=data[\"選址成功\"]"
   ]
  },
  {
   "cell_type": "code",
   "execution_count": 14,
   "metadata": {},
   "outputs": [
    {
     "name": "stdout",
     "output_type": "stream",
     "text": [
      "Accuracy mean: 0.7901439645625692\n",
      "Precision mean: 0.7709735715170498\n",
      "Recall mean: 0.8493506493506494\n",
      "F1 mean: 0.8068534006263622\n",
      "AUC mean: 0.8353086992372706\n"
     ]
    }
   ],
   "source": [
    "tree_model=DecisionTreeClassifier(random_state=123,max_depth=3)\n",
    "accuracy_dt=cross_val_score(tree_model,X_all_selected,y,scoring='accuracy',cv=10)\n",
    "precision_dt=cross_val_score(tree_model,X_all_selected,y,scoring='precision',cv=10)\n",
    "recall_dt=cross_val_score(tree_model,X_all_selected,y,scoring='recall',cv=10)\n",
    "f1_dt=cross_val_score(tree_model,X_all_selected,y,scoring='f1',cv=10)\n",
    "auc_dt=cross_val_score(tree_model,X_all_selected,y,scoring='roc_auc',cv=10)\n",
    "\n",
    "print(\"Accuracy mean:\",accuracy_dt.mean())\n",
    "print(\"Precision mean:\",precision_dt.mean())\n",
    "print(\"Recall mean:\",recall_dt.mean())\n",
    "print(\"F1 mean:\",f1_dt.mean())\n",
    "print(\"AUC mean:\",auc_dt.mean())"
   ]
  },
  {
   "cell_type": "code",
   "execution_count": 15,
   "metadata": {},
   "outputs": [
    {
     "name": "stdout",
     "output_type": "stream",
     "text": [
      "Accuracy mean: 0.7923588039867109\n",
      "Precision mean: 0.7676995980754562\n",
      "Recall mean: 0.8629870129870131\n",
      "F1 mean: 0.8095855895051536\n",
      "AUC mean: 0.8536242527313955\n"
     ]
    }
   ],
   "source": [
    "RF_model=RandomForestClassifier(random_state=123,max_depth=1)\n",
    "accuracy_rf=cross_val_score(RF_model,X_all_selected,y,scoring='accuracy',cv=10)\n",
    "precision_rf=cross_val_score(RF_model,X_all_selected,y,scoring='precision',cv=10)\n",
    "recall_rf=cross_val_score(RF_model,X_all_selected,y,scoring='recall',cv=10)\n",
    "f1_rf=cross_val_score(RF_model,X_all_selected,y,scoring='f1',cv=10)\n",
    "auc_rf=cross_val_score(RF_model,X_all_selected,y,scoring='roc_auc',cv=10)\n",
    "\n",
    "print(\"Accuracy mean:\",accuracy_rf.mean())\n",
    "print(\"Precision mean:\",precision_rf.mean())\n",
    "print(\"Recall mean:\",recall_rf.mean())\n",
    "print(\"F1 mean:\",f1_rf.mean())\n",
    "print(\"AUC mean:\",auc_rf.mean())"
   ]
  },
  {
   "cell_type": "code",
   "execution_count": 16,
   "metadata": {},
   "outputs": [
    {
     "name": "stdout",
     "output_type": "stream",
     "text": [
      "Accuracy mean: 0.8158361018826137\n",
      "Precision mean: 0.8023557049357966\n",
      "Recall mean: 0.8538961038961039\n",
      "F1 mean: 0.8250464805607965\n",
      "AUC mean: 0.878824469181612\n"
     ]
    }
   ],
   "source": [
    "GB_model=GradientBoostingClassifier(random_state=123,max_depth=5)\n",
    "accuracy_gb=cross_val_score(GB_model,X_all_selected,y,scoring='accuracy',cv=10)\n",
    "precision_gb=cross_val_score(GB_model,X_all_selected,y,scoring='precision',cv=10)\n",
    "recall_gb=cross_val_score(GB_model,X_all_selected,y,scoring='recall',cv=10)\n",
    "f1_gb=cross_val_score(GB_model,X_all_selected,y,scoring='f1',cv=10)\n",
    "auc_gb=cross_val_score(GB_model,X_all_selected,y,scoring='roc_auc',cv=10)\n",
    "\n",
    "print(\"Accuracy mean:\",accuracy_gb.mean())\n",
    "print(\"Precision mean:\",precision_gb.mean())\n",
    "print(\"Recall mean:\",recall_gb.mean())\n",
    "print(\"F1 mean:\",f1_gb.mean())\n",
    "print(\"AUC mean:\",auc_gb.mean())"
   ]
  },
  {
   "cell_type": "code",
   "execution_count": 17,
   "metadata": {},
   "outputs": [
    {
     "name": "stdout",
     "output_type": "stream",
     "text": [
      "Accuracy mean: 0.7853820598006644\n",
      "Precision mean: 0.7619405071578984\n",
      "Recall mean: 0.8536796536796537\n",
      "F1 mean: 0.8034018647210491\n",
      "AUC mean: 0.8574278499278499\n"
     ]
    }
   ],
   "source": [
    "lr_model=linear_model.LogisticRegression(random_state=123)\n",
    "accuracy_lr=cross_val_score(lr_model,X_all_selected,y,scoring='accuracy',cv=10)\n",
    "precision_lr=cross_val_score(lr_model,X_all_selected,y,scoring='precision',cv=10)\n",
    "recall_lr=cross_val_score(lr_model,X_all_selected,y,scoring='recall',cv=10)\n",
    "f1_lr=cross_val_score(lr_model,X_all_selected,y,scoring='f1',cv=10)\n",
    "auc_lr=cross_val_score(lr_model,X_all_selected,y,scoring='roc_auc',cv=10)\n",
    "\n",
    "print(\"Accuracy mean:\",accuracy_lr.mean())\n",
    "print(\"Precision mean:\",precision_lr.mean())\n",
    "print(\"Recall mean:\",recall_lr.mean())\n",
    "print(\"F1 mean:\",f1_lr.mean())\n",
    "print(\"AUC mean:\",auc_lr.mean())"
   ]
  },
  {
   "cell_type": "code",
   "execution_count": 18,
   "metadata": {},
   "outputs": [
    {
     "name": "stdout",
     "output_type": "stream",
     "text": [
      "Accuracy: [0.7901439645625692, 0.7923588039867109, 0.8158361018826137, 0.7853820598006644]\n",
      "Precision: [0.7709735715170498, 0.7676995980754562, 0.8023557049357966, 0.7619405071578984]\n",
      "Recall: [0.8493506493506494, 0.8629870129870131, 0.8538961038961039, 0.8536796536796537]\n",
      "F1: [0.8068534006263622, 0.8095855895051536, 0.8250464805607965, 0.8034018647210491]\n",
      "AUC: [0.8353086992372706, 0.8536242527313955, 0.878824469181612, 0.8574278499278499]\n"
     ]
    }
   ],
   "source": [
    "acc_all=[accuracy_dt.mean(),accuracy_rf.mean(),accuracy_gb.mean(),accuracy_lr.mean()]\n",
    "pre_all=[precision_dt.mean(),precision_rf.mean(),precision_gb.mean(),precision_lr.mean()]\n",
    "recall_all=[recall_dt.mean(),recall_rf.mean(),recall_gb.mean(),recall_lr.mean()]\n",
    "f1_all=[f1_dt.mean(),f1_rf.mean(),f1_gb.mean(),f1_lr.mean()]\n",
    "auc_all=[auc_dt.mean(),auc_rf.mean(),auc_gb.mean(),auc_lr.mean()]\n",
    "\n",
    "print(\"Accuracy:\",acc_all)\n",
    "print(\"Precision:\",pre_all)\n",
    "print(\"Recall:\",recall_all)\n",
    "print(\"F1:\",f1_all)\n",
    "print(\"AUC:\",auc_all)\n"
   ]
  },
  {
   "cell_type": "code",
   "execution_count": 19,
   "metadata": {},
   "outputs": [
    {
     "data": {
      "image/png": "[encoded data removed]",
      "text/plain": [
       "<Figure size 720x576 with 1 Axes>"
      ]
     },
     "metadata": {
      "needs_background": "light"
     },
     "output_type": "display_data"
    }
   ],
   "source": [
    "model_name=[\"DecisionTree\",\"RandomForest\",\"GradientBoosting\",\"LogisticRegression\"]\n",
    "\n",
    "plt.figure(figsize=(10,8))\n",
    "\n",
    "index=[1,9,17,25]\n",
    "plt.bar(index,acc_all,width=1,label=\"Accuracy\")\n",
    "\n",
    "index=[p+1 for p in index]  \n",
    "plt.bar(index,pre_all,width=1,label=\"Precision\")\n",
    "\n",
    "index=[p+1 for p in index]  \n",
    "plt.bar(index,recall_all,width=1,label=\"Recall\")\n",
    "\n",
    "index=[p+1 for p in index]  \n",
    "plt.bar(index,f1_all,width=1,label=\"F1\")\n",
    "\n",
    "index=[p+1 for p in index]  \n",
    "plt.bar(index,auc_all,width=1,label=\"AUC\")\n",
    "\n",
    "index=[p-2 for p in index]  \n",
    "plt.legend()\n",
    "plt.ylim(0.75,0.9)\n",
    "plt.xticks(index, model_name) \n",
    "\n",
    "plt.show()"
   ]
  }
 ],
 "metadata": {
  "kernelspec": {
   "display_name": "Python 3",
   "language": "python",
   "name": "python3"
  },
  "language_info": {
   "codemirror_mode": {
    "name": "ipython",
    "version": 3
   },
   "file_extension": ".py",
   "mimetype": "text/x-python",
   "name": "python",
   "nbconvert_exporter": "python",
   "pygments_lexer": "ipython3",
   "version": "3.8.3"
  }
 },
 "nbformat": 4,
 "nbformat_minor": 4
}
